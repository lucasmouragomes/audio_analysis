{
 "cells": [
  {
   "cell_type": "code",
   "execution_count": 1,
   "metadata": {},
   "outputs": [],
   "source": [
    "from src.audio_analysis import AudioData, load_audio, read_audio_data\n",
    "import pandas as pd\n",
    "import librosa.display\n",
    "from IPython.display import display"
   ]
  },
  {
   "attachments": {},
   "cell_type": "markdown",
   "metadata": {},
   "source": [
    "First, we need a list with file names to be analyzed.\n",
    "Loading the meta data of our samples..."
   ]
  },
  {
   "cell_type": "code",
   "execution_count": 2,
   "metadata": {},
   "outputs": [
    {
     "data": {
      "text/html": [
       "<div>\n",
       "<style scoped>\n",
       "    .dataframe tbody tr th:only-of-type {\n",
       "        vertical-align: middle;\n",
       "    }\n",
       "\n",
       "    .dataframe tbody tr th {\n",
       "        vertical-align: top;\n",
       "    }\n",
       "\n",
       "    .dataframe thead th {\n",
       "        text-align: right;\n",
       "    }\n",
       "</style>\n",
       "<table border=\"1\" class=\"dataframe\">\n",
       "  <thead>\n",
       "    <tr style=\"text-align: right;\">\n",
       "      <th></th>\n",
       "      <th>id</th>\n",
       "      <th>name</th>\n",
       "      <th>artists</th>\n",
       "      <th>valence</th>\n",
       "      <th>filename</th>\n",
       "    </tr>\n",
       "  </thead>\n",
       "  <tbody>\n",
       "    <tr>\n",
       "      <th>0</th>\n",
       "      <td>7lR4CRvHJ6IgX3oHbGeqlQ</td>\n",
       "      <td>Hilux</td>\n",
       "      <td>João Boiadeiro</td>\n",
       "      <td>0.923</td>\n",
       "      <td>./sampled/7lR4CRvHJ6IgX3oHbGeqlQ.mp3</td>\n",
       "    </tr>\n",
       "    <tr>\n",
       "      <th>1</th>\n",
       "      <td>35qOGx1CWvCkQFOv4BkVIV</td>\n",
       "      <td>Esquema Preferido - Ao Vivo</td>\n",
       "      <td>Os Barões Da Pisadinha</td>\n",
       "      <td>0.968</td>\n",
       "      <td>./sampled/35qOGx1CWvCkQFOv4BkVIV.mp3</td>\n",
       "    </tr>\n",
       "    <tr>\n",
       "      <th>2</th>\n",
       "      <td>2vPRrOaM3zvPwrOHoIPjcF</td>\n",
       "      <td>Ele É Ele, Eu Sou Eu</td>\n",
       "      <td>Wesley Safadão \\ Os Barões Da Pisadinha</td>\n",
       "      <td>0.862</td>\n",
       "      <td>./sampled/2vPRrOaM3zvPwrOHoIPjcF.mp3</td>\n",
       "    </tr>\n",
       "    <tr>\n",
       "      <th>3</th>\n",
       "      <td>7as7OL7cmgFZDADgVjQZjz</td>\n",
       "      <td>Meia Noite (Ce Tem Meu Whatsapp) - Ao Vivo</td>\n",
       "      <td>Os Barões Da Pisadinha</td>\n",
       "      <td>0.960</td>\n",
       "      <td>./sampled/7as7OL7cmgFZDADgVjQZjz.mp3</td>\n",
       "    </tr>\n",
       "    <tr>\n",
       "      <th>4</th>\n",
       "      <td>4KyqnztwWZB3Kw1bJAEqPS</td>\n",
       "      <td>Sala de Aula</td>\n",
       "      <td>João Boiadeiro</td>\n",
       "      <td>0.850</td>\n",
       "      <td>./sampled/4KyqnztwWZB3Kw1bJAEqPS.mp3</td>\n",
       "    </tr>\n",
       "  </tbody>\n",
       "</table>\n",
       "</div>"
      ],
      "text/plain": [
       "                       id                                        name  \\\n",
       "0  7lR4CRvHJ6IgX3oHbGeqlQ                                       Hilux   \n",
       "1  35qOGx1CWvCkQFOv4BkVIV                 Esquema Preferido - Ao Vivo   \n",
       "2  2vPRrOaM3zvPwrOHoIPjcF                        Ele É Ele, Eu Sou Eu   \n",
       "3  7as7OL7cmgFZDADgVjQZjz  Meia Noite (Ce Tem Meu Whatsapp) - Ao Vivo   \n",
       "4  4KyqnztwWZB3Kw1bJAEqPS                                Sala de Aula   \n",
       "\n",
       "                                   artists  valence  \\\n",
       "0                           João Boiadeiro    0.923   \n",
       "1                   Os Barões Da Pisadinha    0.968   \n",
       "2  Wesley Safadão \\ Os Barões Da Pisadinha    0.862   \n",
       "3                   Os Barões Da Pisadinha    0.960   \n",
       "4                           João Boiadeiro    0.850   \n",
       "\n",
       "                               filename  \n",
       "0  ./sampled/7lR4CRvHJ6IgX3oHbGeqlQ.mp3  \n",
       "1  ./sampled/35qOGx1CWvCkQFOv4BkVIV.mp3  \n",
       "2  ./sampled/2vPRrOaM3zvPwrOHoIPjcF.mp3  \n",
       "3  ./sampled/7as7OL7cmgFZDADgVjQZjz.mp3  \n",
       "4  ./sampled/4KyqnztwWZB3Kw1bJAEqPS.mp3  "
      ]
     },
     "execution_count": 2,
     "metadata": {},
     "output_type": "execute_result"
    }
   ],
   "source": [
    "\n",
    "df = pd.read_csv('./sampled/sampled.csv', index_col='Unnamed: 0')\n",
    "df = df[['id', 'name', 'artists', 'valence', 'filename']]\n",
    "df.head()"
   ]
  },
  {
   "attachments": {},
   "cell_type": "markdown",
   "metadata": {},
   "source": [
    "Audio analysis will be done and the following signals will be extracted:\n",
    "\n",
    "- 'chroma'\n",
    "- 'rmse'\n",
    "- 'spec_cent'\n",
    "- 'spec_bw'\n",
    "- 'rolloff'\n",
    "- 'zcr'\n",
    "- 'mfcc'\n",
    "- 'melspectrogram'\n",
    "- 'y' (raw audio data if further analysis is needed)"
   ]
  },
  {
   "attachments": {},
   "cell_type": "markdown",
   "metadata": {},
   "source": [
    "We consider the files to be 30 second previews, but the duration and offset (ignoring beginning of song) can be adjusted with additional args in load_audio.\n",
    "\n",
    "Please check the method definition."
   ]
  },
  {
   "cell_type": "code",
   "execution_count": 3,
   "metadata": {},
   "outputs": [
    {
     "name": "stderr",
     "output_type": "stream",
     "text": [
      "100%|██████████| 54/54 [01:37<00:00,  1.81s/it]"
     ]
    },
    {
     "name": "stdout",
     "output_type": "stream",
     "text": [
      "Audio data succesfully processed!\n"
     ]
    },
    {
     "name": "stderr",
     "output_type": "stream",
     "text": [
      "\n"
     ]
    }
   ],
   "source": [
    "audio_analysis = load_audio(df['filename'])"
   ]
  },
  {
   "attachments": {},
   "cell_type": "markdown",
   "metadata": {},
   "source": [
    "The audio analysis becomes the X data after dropping the raw audio data column.\n",
    "\n",
    "Y data comes from the reference df loaded at the beginning.\n",
    "\n",
    "We keep the librosa_raw in case we need further analysis."
   ]
  },
  {
   "cell_type": "code",
   "execution_count": 4,
   "metadata": {},
   "outputs": [],
   "source": [
    "X = pd.DataFrame(audio_analysis)\n",
    "Y = df['valence']\n",
    "librosa_raw = X['y'].copy()\n",
    "X = X.drop('y', axis=1)"
   ]
  },
  {
   "cell_type": "code",
   "execution_count": 5,
   "metadata": {},
   "outputs": [
    {
     "data": {
      "text/html": [
       "<div>\n",
       "<style scoped>\n",
       "    .dataframe tbody tr th:only-of-type {\n",
       "        vertical-align: middle;\n",
       "    }\n",
       "\n",
       "    .dataframe tbody tr th {\n",
       "        vertical-align: top;\n",
       "    }\n",
       "\n",
       "    .dataframe thead th {\n",
       "        text-align: right;\n",
       "    }\n",
       "</style>\n",
       "<table border=\"1\" class=\"dataframe\">\n",
       "  <thead>\n",
       "    <tr style=\"text-align: right;\">\n",
       "      <th></th>\n",
       "      <th>chroma</th>\n",
       "      <th>rmse</th>\n",
       "      <th>spec_cent</th>\n",
       "      <th>spec_bw</th>\n",
       "      <th>rolloff</th>\n",
       "      <th>zcr</th>\n",
       "      <th>mfcc</th>\n",
       "      <th>melspectrogram</th>\n",
       "    </tr>\n",
       "  </thead>\n",
       "  <tbody>\n",
       "    <tr>\n",
       "      <th>0</th>\n",
       "      <td>[[0.12775837, 0.06570292, 0.06905485, 0.369096...</td>\n",
       "      <td>[0.1615236, 0.20659907, 0.27349138, 0.31197056...</td>\n",
       "      <td>[[2253.9517900311957, 2863.5931170588915, 3274...</td>\n",
       "      <td>[[2712.5691600486643, 3028.931489955659, 3198....</td>\n",
       "      <td>[[6061.5966796875, 6836.7919921875, 7967.28515...</td>\n",
       "      <td>[[0.044921875, 0.0830078125, 0.1357421875, 0.1...</td>\n",
       "      <td>[[-80.60605, -47.257175, -24.116472, 51.960297...</td>\n",
       "      <td>[[2.222499, 0.52993447, 0.25253808, 2.4793954,...</td>\n",
       "    </tr>\n",
       "    <tr>\n",
       "      <th>1</th>\n",
       "      <td>[[0.37827095, 0.14475623, 0.6449782, 1.0, 1.0,...</td>\n",
       "      <td>[0.0690847, 0.14975865, 0.284021, 0.4023466, 0...</td>\n",
       "      <td>[[4218.713414699616, 5071.574053055507, 4634.2...</td>\n",
       "      <td>[[3303.640143255119, 3248.3543594811204, 3251....</td>\n",
       "      <td>[[8247.216796875, 8656.34765625, 8537.91503906...</td>\n",
       "      <td>[[0.18603515625, 0.28125, 0.31396484375, 0.243...</td>\n",
       "      <td>[[-96.8412, -63.54257, 15.9676075, 52.225468, ...</td>\n",
       "      <td>[[0.16965969, 0.08529728, 37.817314, 912.44116...</td>\n",
       "    </tr>\n",
       "    <tr>\n",
       "      <th>2</th>\n",
       "      <td>[[0.01418765, 0.021669295, 0.076516874, 0.2691...</td>\n",
       "      <td>[0.06827622, 0.07664133, 0.121490404, 0.183671...</td>\n",
       "      <td>[[2425.1127880004624, 2526.586162028486, 3282....</td>\n",
       "      <td>[[2130.3626052534214, 2157.8840339572275, 2590...</td>\n",
       "      <td>[[4575.8056640625, 4855.7373046875, 6169.26269...</td>\n",
       "      <td>[[0.0517578125, 0.0830078125, 0.125, 0.1157226...</td>\n",
       "      <td>[[-143.25423, -141.37218, -107.94575, -23.2684...</td>\n",
       "      <td>[[0.032627393, 0.009511277, 0.09821674, 5.0485...</td>\n",
       "    </tr>\n",
       "    <tr>\n",
       "      <th>3</th>\n",
       "      <td>[[0.27429864, 0.14574945, 0.19059972, 0.598107...</td>\n",
       "      <td>[0.15967563, 0.22078463, 0.35893396, 0.4414945...</td>\n",
       "      <td>[[2387.029319917244, 2571.326107438398, 3133.7...</td>\n",
       "      <td>[[2526.122578858845, 2618.180269375585, 2761.5...</td>\n",
       "      <td>[[4995.703125, 6115.4296875, 6352.294921875, 5...</td>\n",
       "      <td>[[0.0595703125, 0.10595703125, 0.1162109375, 0...</td>\n",
       "      <td>[[-23.37339, -7.9882774, 22.877676, 55.631496,...</td>\n",
       "      <td>[[1.518844, 1.3209215, 27.384771, 730.37836, 2...</td>\n",
       "    </tr>\n",
       "    <tr>\n",
       "      <th>4</th>\n",
       "      <td>[[0.26253396, 0.1730196, 0.09896742, 0.2867989...</td>\n",
       "      <td>[0.16210034, 0.2073524, 0.3078415, 0.42302924,...</td>\n",
       "      <td>[[5499.96745762831, 5426.714831030211, 3952.56...</td>\n",
       "      <td>[[3506.9254109602275, 3445.2027330478722, 3242...</td>\n",
       "      <td>[[8893.212890625, 8839.3798828125, 8139.550781...</td>\n",
       "      <td>[[0.166015625, 0.19482421875, 0.25048828125, 0...</td>\n",
       "      <td>[[-44.362534, -30.872753, 16.966043, 87.66868,...</td>\n",
       "      <td>[[0.23404446, 0.23236667, 1.3214282, 174.60545...</td>\n",
       "    </tr>\n",
       "  </tbody>\n",
       "</table>\n",
       "</div>"
      ],
      "text/plain": [
       "                                              chroma  \\\n",
       "0  [[0.12775837, 0.06570292, 0.06905485, 0.369096...   \n",
       "1  [[0.37827095, 0.14475623, 0.6449782, 1.0, 1.0,...   \n",
       "2  [[0.01418765, 0.021669295, 0.076516874, 0.2691...   \n",
       "3  [[0.27429864, 0.14574945, 0.19059972, 0.598107...   \n",
       "4  [[0.26253396, 0.1730196, 0.09896742, 0.2867989...   \n",
       "\n",
       "                                                rmse  \\\n",
       "0  [0.1615236, 0.20659907, 0.27349138, 0.31197056...   \n",
       "1  [0.0690847, 0.14975865, 0.284021, 0.4023466, 0...   \n",
       "2  [0.06827622, 0.07664133, 0.121490404, 0.183671...   \n",
       "3  [0.15967563, 0.22078463, 0.35893396, 0.4414945...   \n",
       "4  [0.16210034, 0.2073524, 0.3078415, 0.42302924,...   \n",
       "\n",
       "                                           spec_cent  \\\n",
       "0  [[2253.9517900311957, 2863.5931170588915, 3274...   \n",
       "1  [[4218.713414699616, 5071.574053055507, 4634.2...   \n",
       "2  [[2425.1127880004624, 2526.586162028486, 3282....   \n",
       "3  [[2387.029319917244, 2571.326107438398, 3133.7...   \n",
       "4  [[5499.96745762831, 5426.714831030211, 3952.56...   \n",
       "\n",
       "                                             spec_bw  \\\n",
       "0  [[2712.5691600486643, 3028.931489955659, 3198....   \n",
       "1  [[3303.640143255119, 3248.3543594811204, 3251....   \n",
       "2  [[2130.3626052534214, 2157.8840339572275, 2590...   \n",
       "3  [[2526.122578858845, 2618.180269375585, 2761.5...   \n",
       "4  [[3506.9254109602275, 3445.2027330478722, 3242...   \n",
       "\n",
       "                                             rolloff  \\\n",
       "0  [[6061.5966796875, 6836.7919921875, 7967.28515...   \n",
       "1  [[8247.216796875, 8656.34765625, 8537.91503906...   \n",
       "2  [[4575.8056640625, 4855.7373046875, 6169.26269...   \n",
       "3  [[4995.703125, 6115.4296875, 6352.294921875, 5...   \n",
       "4  [[8893.212890625, 8839.3798828125, 8139.550781...   \n",
       "\n",
       "                                                 zcr  \\\n",
       "0  [[0.044921875, 0.0830078125, 0.1357421875, 0.1...   \n",
       "1  [[0.18603515625, 0.28125, 0.31396484375, 0.243...   \n",
       "2  [[0.0517578125, 0.0830078125, 0.125, 0.1157226...   \n",
       "3  [[0.0595703125, 0.10595703125, 0.1162109375, 0...   \n",
       "4  [[0.166015625, 0.19482421875, 0.25048828125, 0...   \n",
       "\n",
       "                                                mfcc  \\\n",
       "0  [[-80.60605, -47.257175, -24.116472, 51.960297...   \n",
       "1  [[-96.8412, -63.54257, 15.9676075, 52.225468, ...   \n",
       "2  [[-143.25423, -141.37218, -107.94575, -23.2684...   \n",
       "3  [[-23.37339, -7.9882774, 22.877676, 55.631496,...   \n",
       "4  [[-44.362534, -30.872753, 16.966043, 87.66868,...   \n",
       "\n",
       "                                      melspectrogram  \n",
       "0  [[2.222499, 0.52993447, 0.25253808, 2.4793954,...  \n",
       "1  [[0.16965969, 0.08529728, 37.817314, 912.44116...  \n",
       "2  [[0.032627393, 0.009511277, 0.09821674, 5.0485...  \n",
       "3  [[1.518844, 1.3209215, 27.384771, 730.37836, 2...  \n",
       "4  [[0.23404446, 0.23236667, 1.3214282, 174.60545...  "
      ]
     },
     "execution_count": 5,
     "metadata": {},
     "output_type": "execute_result"
    }
   ],
   "source": [
    "X.head()"
   ]
  },
  {
   "cell_type": "code",
   "execution_count": 6,
   "metadata": {},
   "outputs": [
    {
     "data": {
      "text/plain": [
       "0    0.923\n",
       "1    0.968\n",
       "2    0.862\n",
       "3    0.960\n",
       "4    0.850\n",
       "Name: valence, dtype: float64"
      ]
     },
     "execution_count": 6,
     "metadata": {},
     "output_type": "execute_result"
    }
   ],
   "source": [
    "Y.head()"
   ]
  },
  {
   "cell_type": "code",
   "execution_count": 7,
   "metadata": {},
   "outputs": [
    {
     "data": {
      "text/html": [
       "<div>\n",
       "<style scoped>\n",
       "    .dataframe tbody tr th:only-of-type {\n",
       "        vertical-align: middle;\n",
       "    }\n",
       "\n",
       "    .dataframe tbody tr th {\n",
       "        vertical-align: top;\n",
       "    }\n",
       "\n",
       "    .dataframe thead th {\n",
       "        text-align: right;\n",
       "    }\n",
       "</style>\n",
       "<table border=\"1\" class=\"dataframe\">\n",
       "  <thead>\n",
       "    <tr style=\"text-align: right;\">\n",
       "      <th></th>\n",
       "      <th>id</th>\n",
       "      <th>name</th>\n",
       "      <th>artists</th>\n",
       "      <th>valence</th>\n",
       "      <th>filename</th>\n",
       "    </tr>\n",
       "  </thead>\n",
       "  <tbody>\n",
       "    <tr>\n",
       "      <th>0</th>\n",
       "      <td>7lR4CRvHJ6IgX3oHbGeqlQ</td>\n",
       "      <td>Hilux</td>\n",
       "      <td>João Boiadeiro</td>\n",
       "      <td>0.923</td>\n",
       "      <td>./sampled/7lR4CRvHJ6IgX3oHbGeqlQ.mp3</td>\n",
       "    </tr>\n",
       "    <tr>\n",
       "      <th>1</th>\n",
       "      <td>35qOGx1CWvCkQFOv4BkVIV</td>\n",
       "      <td>Esquema Preferido - Ao Vivo</td>\n",
       "      <td>Os Barões Da Pisadinha</td>\n",
       "      <td>0.968</td>\n",
       "      <td>./sampled/35qOGx1CWvCkQFOv4BkVIV.mp3</td>\n",
       "    </tr>\n",
       "    <tr>\n",
       "      <th>2</th>\n",
       "      <td>2vPRrOaM3zvPwrOHoIPjcF</td>\n",
       "      <td>Ele É Ele, Eu Sou Eu</td>\n",
       "      <td>Wesley Safadão \\ Os Barões Da Pisadinha</td>\n",
       "      <td>0.862</td>\n",
       "      <td>./sampled/2vPRrOaM3zvPwrOHoIPjcF.mp3</td>\n",
       "    </tr>\n",
       "    <tr>\n",
       "      <th>3</th>\n",
       "      <td>7as7OL7cmgFZDADgVjQZjz</td>\n",
       "      <td>Meia Noite (Ce Tem Meu Whatsapp) - Ao Vivo</td>\n",
       "      <td>Os Barões Da Pisadinha</td>\n",
       "      <td>0.960</td>\n",
       "      <td>./sampled/7as7OL7cmgFZDADgVjQZjz.mp3</td>\n",
       "    </tr>\n",
       "    <tr>\n",
       "      <th>4</th>\n",
       "      <td>4KyqnztwWZB3Kw1bJAEqPS</td>\n",
       "      <td>Sala de Aula</td>\n",
       "      <td>João Boiadeiro</td>\n",
       "      <td>0.850</td>\n",
       "      <td>./sampled/4KyqnztwWZB3Kw1bJAEqPS.mp3</td>\n",
       "    </tr>\n",
       "  </tbody>\n",
       "</table>\n",
       "</div>"
      ],
      "text/plain": [
       "                       id                                        name  \\\n",
       "0  7lR4CRvHJ6IgX3oHbGeqlQ                                       Hilux   \n",
       "1  35qOGx1CWvCkQFOv4BkVIV                 Esquema Preferido - Ao Vivo   \n",
       "2  2vPRrOaM3zvPwrOHoIPjcF                        Ele É Ele, Eu Sou Eu   \n",
       "3  7as7OL7cmgFZDADgVjQZjz  Meia Noite (Ce Tem Meu Whatsapp) - Ao Vivo   \n",
       "4  4KyqnztwWZB3Kw1bJAEqPS                                Sala de Aula   \n",
       "\n",
       "                                   artists  valence  \\\n",
       "0                           João Boiadeiro    0.923   \n",
       "1                   Os Barões Da Pisadinha    0.968   \n",
       "2  Wesley Safadão \\ Os Barões Da Pisadinha    0.862   \n",
       "3                   Os Barões Da Pisadinha    0.960   \n",
       "4                           João Boiadeiro    0.850   \n",
       "\n",
       "                               filename  \n",
       "0  ./sampled/7lR4CRvHJ6IgX3oHbGeqlQ.mp3  \n",
       "1  ./sampled/35qOGx1CWvCkQFOv4BkVIV.mp3  \n",
       "2  ./sampled/2vPRrOaM3zvPwrOHoIPjcF.mp3  \n",
       "3  ./sampled/7as7OL7cmgFZDADgVjQZjz.mp3  \n",
       "4  ./sampled/4KyqnztwWZB3Kw1bJAEqPS.mp3  "
      ]
     },
     "execution_count": 7,
     "metadata": {},
     "output_type": "execute_result"
    }
   ],
   "source": [
    "df.head()"
   ]
  },
  {
   "attachments": {},
   "cell_type": "markdown",
   "metadata": {},
   "source": [
    "Now we can create an AudioData object that will store all info we need.\n",
    "\n",
    "This object stores all necessary information and also creates training, validation and test sets.\n",
    "\n",
    "The split can be adjusted in split_df method of the object - it has been defaulted to 4, 1, 1."
   ]
  },
  {
   "cell_type": "code",
   "execution_count": 8,
   "metadata": {},
   "outputs": [
    {
     "name": "stdout",
     "output_type": "stream",
     "text": [
      "chroma is shape (54,)\n",
      "rmse is shape (54,)\n",
      "spec_cent is shape (54,)\n",
      "spec_bw is shape (54,)\n",
      "rolloff is shape (54,)\n",
      "zcr is shape (54,)\n",
      "mfcc is shape (54,)\n",
      "melspectrogram is shape (54,)\n",
      "rmse is shape (54,)\n"
     ]
    }
   ],
   "source": [
    "audio = AudioData(X, Y, df, librosa_raw)"
   ]
  },
  {
   "attachments": {},
   "cell_type": "markdown",
   "metadata": {},
   "source": [
    "When AudioData object is created, it also fixes the shapes so that the data is ready for training.\n",
    "\n",
    "This is necessary because the raw audio_data can have different lengths although they are all 30 second previews.\n",
    "\n",
    "It also calculates means and vars of features, as well as first order diff means and vars."
   ]
  },
  {
   "cell_type": "code",
   "execution_count": 15,
   "metadata": {},
   "outputs": [
    {
     "name": "stdout",
     "output_type": "stream",
     "text": [
      "Shapes\n"
     ]
    },
    {
     "data": {
      "text/plain": [
       "(36, 104)"
      ]
     },
     "metadata": {},
     "output_type": "display_data"
    },
    {
     "data": {
      "text/plain": [
       "(8, 104)"
      ]
     },
     "metadata": {},
     "output_type": "display_data"
    },
    {
     "data": {
      "text/plain": [
       "(8, 104)"
      ]
     },
     "metadata": {},
     "output_type": "display_data"
    },
    {
     "data": {
      "text/html": [
       "<div>\n",
       "<style scoped>\n",
       "    .dataframe tbody tr th:only-of-type {\n",
       "        vertical-align: middle;\n",
       "    }\n",
       "\n",
       "    .dataframe tbody tr th {\n",
       "        vertical-align: top;\n",
       "    }\n",
       "\n",
       "    .dataframe thead th {\n",
       "        text-align: right;\n",
       "    }\n",
       "</style>\n",
       "<table border=\"1\" class=\"dataframe\">\n",
       "  <thead>\n",
       "    <tr style=\"text-align: right;\">\n",
       "      <th></th>\n",
       "      <th>chroma_mean</th>\n",
       "      <th>chroma_var</th>\n",
       "      <th>chroma_meandif</th>\n",
       "      <th>chroma_vardif</th>\n",
       "      <th>rmse_mean</th>\n",
       "      <th>rmse_var</th>\n",
       "      <th>rmse_meandif</th>\n",
       "      <th>rmse_vardif</th>\n",
       "      <th>spec_cent_mean</th>\n",
       "      <th>spec_cent_var</th>\n",
       "      <th>...</th>\n",
       "      <th>mfcc17_meandif</th>\n",
       "      <th>mfcc17_vardif</th>\n",
       "      <th>mfcc18_mean</th>\n",
       "      <th>mfcc18_var</th>\n",
       "      <th>mfcc18_meandif</th>\n",
       "      <th>mfcc18_vardif</th>\n",
       "      <th>mfcc19_mean</th>\n",
       "      <th>mfcc19_var</th>\n",
       "      <th>mfcc19_meandif</th>\n",
       "      <th>mfcc19_vardif</th>\n",
       "    </tr>\n",
       "  </thead>\n",
       "  <tbody>\n",
       "    <tr>\n",
       "      <th>53</th>\n",
       "      <td>0.335798</td>\n",
       "      <td>0.073539</td>\n",
       "      <td>-0.000140</td>\n",
       "      <td>0.042796</td>\n",
       "      <td>0.309283</td>\n",
       "      <td>0.011491</td>\n",
       "      <td>0.000052</td>\n",
       "      <td>0.003613</td>\n",
       "      <td>2859.132767</td>\n",
       "      <td>451819.038458</td>\n",
       "      <td>...</td>\n",
       "      <td>0.002307</td>\n",
       "      <td>21.747654</td>\n",
       "      <td>-6.085621</td>\n",
       "      <td>50.355755</td>\n",
       "      <td>0.008724</td>\n",
       "      <td>25.351391</td>\n",
       "      <td>8.708720</td>\n",
       "      <td>47.822750</td>\n",
       "      <td>-0.000098</td>\n",
       "      <td>22.238066</td>\n",
       "    </tr>\n",
       "    <tr>\n",
       "      <th>20</th>\n",
       "      <td>0.343088</td>\n",
       "      <td>0.084259</td>\n",
       "      <td>0.000161</td>\n",
       "      <td>0.050041</td>\n",
       "      <td>0.219217</td>\n",
       "      <td>0.003170</td>\n",
       "      <td>0.000075</td>\n",
       "      <td>0.000853</td>\n",
       "      <td>2772.924194</td>\n",
       "      <td>475362.841809</td>\n",
       "      <td>...</td>\n",
       "      <td>0.007036</td>\n",
       "      <td>20.649643</td>\n",
       "      <td>-10.787173</td>\n",
       "      <td>49.831371</td>\n",
       "      <td>0.011565</td>\n",
       "      <td>16.839680</td>\n",
       "      <td>2.399181</td>\n",
       "      <td>71.978027</td>\n",
       "      <td>0.006535</td>\n",
       "      <td>21.948231</td>\n",
       "    </tr>\n",
       "    <tr>\n",
       "      <th>7</th>\n",
       "      <td>0.408218</td>\n",
       "      <td>0.124302</td>\n",
       "      <td>0.000059</td>\n",
       "      <td>0.041728</td>\n",
       "      <td>0.254981</td>\n",
       "      <td>0.008761</td>\n",
       "      <td>0.000044</td>\n",
       "      <td>0.002581</td>\n",
       "      <td>2225.483645</td>\n",
       "      <td>425800.035114</td>\n",
       "      <td>...</td>\n",
       "      <td>-0.000754</td>\n",
       "      <td>24.788101</td>\n",
       "      <td>-3.522094</td>\n",
       "      <td>83.469788</td>\n",
       "      <td>-0.004439</td>\n",
       "      <td>22.101126</td>\n",
       "      <td>0.202282</td>\n",
       "      <td>112.795372</td>\n",
       "      <td>0.004171</td>\n",
       "      <td>24.984980</td>\n",
       "    </tr>\n",
       "    <tr>\n",
       "      <th>42</th>\n",
       "      <td>0.265665</td>\n",
       "      <td>0.053756</td>\n",
       "      <td>0.000439</td>\n",
       "      <td>0.034396</td>\n",
       "      <td>0.332090</td>\n",
       "      <td>0.006442</td>\n",
       "      <td>0.000004</td>\n",
       "      <td>0.001834</td>\n",
       "      <td>2780.412396</td>\n",
       "      <td>542693.325558</td>\n",
       "      <td>...</td>\n",
       "      <td>0.008788</td>\n",
       "      <td>25.702549</td>\n",
       "      <td>-3.680893</td>\n",
       "      <td>109.029617</td>\n",
       "      <td>0.005904</td>\n",
       "      <td>27.898499</td>\n",
       "      <td>-0.649366</td>\n",
       "      <td>112.115471</td>\n",
       "      <td>0.010379</td>\n",
       "      <td>30.592411</td>\n",
       "    </tr>\n",
       "    <tr>\n",
       "      <th>14</th>\n",
       "      <td>0.311158</td>\n",
       "      <td>0.070788</td>\n",
       "      <td>0.000134</td>\n",
       "      <td>0.041889</td>\n",
       "      <td>0.237023</td>\n",
       "      <td>0.017518</td>\n",
       "      <td>0.000179</td>\n",
       "      <td>0.003464</td>\n",
       "      <td>2542.114877</td>\n",
       "      <td>531116.503902</td>\n",
       "      <td>...</td>\n",
       "      <td>0.002272</td>\n",
       "      <td>20.152248</td>\n",
       "      <td>-3.600922</td>\n",
       "      <td>63.182987</td>\n",
       "      <td>-0.004914</td>\n",
       "      <td>21.264416</td>\n",
       "      <td>2.516004</td>\n",
       "      <td>80.436584</td>\n",
       "      <td>0.001275</td>\n",
       "      <td>25.889658</td>\n",
       "    </tr>\n",
       "  </tbody>\n",
       "</table>\n",
       "<p>5 rows × 104 columns</p>\n",
       "</div>"
      ],
      "text/plain": [
       "    chroma_mean  chroma_var  chroma_meandif  chroma_vardif  rmse_mean  \\\n",
       "53     0.335798    0.073539       -0.000140       0.042796   0.309283   \n",
       "20     0.343088    0.084259        0.000161       0.050041   0.219217   \n",
       "7      0.408218    0.124302        0.000059       0.041728   0.254981   \n",
       "42     0.265665    0.053756        0.000439       0.034396   0.332090   \n",
       "14     0.311158    0.070788        0.000134       0.041889   0.237023   \n",
       "\n",
       "    rmse_var  rmse_meandif  rmse_vardif  spec_cent_mean  spec_cent_var  ...  \\\n",
       "53  0.011491      0.000052     0.003613     2859.132767  451819.038458  ...   \n",
       "20  0.003170      0.000075     0.000853     2772.924194  475362.841809  ...   \n",
       "7   0.008761      0.000044     0.002581     2225.483645  425800.035114  ...   \n",
       "42  0.006442      0.000004     0.001834     2780.412396  542693.325558  ...   \n",
       "14  0.017518      0.000179     0.003464     2542.114877  531116.503902  ...   \n",
       "\n",
       "    mfcc17_meandif  mfcc17_vardif  mfcc18_mean  mfcc18_var  mfcc18_meandif  \\\n",
       "53        0.002307      21.747654    -6.085621   50.355755        0.008724   \n",
       "20        0.007036      20.649643   -10.787173   49.831371        0.011565   \n",
       "7        -0.000754      24.788101    -3.522094   83.469788       -0.004439   \n",
       "42        0.008788      25.702549    -3.680893  109.029617        0.005904   \n",
       "14        0.002272      20.152248    -3.600922   63.182987       -0.004914   \n",
       "\n",
       "    mfcc18_vardif  mfcc19_mean  mfcc19_var  mfcc19_meandif  mfcc19_vardif  \n",
       "53      25.351391     8.708720   47.822750       -0.000098      22.238066  \n",
       "20      16.839680     2.399181   71.978027        0.006535      21.948231  \n",
       "7       22.101126     0.202282  112.795372        0.004171      24.984980  \n",
       "42      27.898499    -0.649366  112.115471        0.010379      30.592411  \n",
       "14      21.264416     2.516004   80.436584        0.001275      25.889658  \n",
       "\n",
       "[5 rows x 104 columns]"
      ]
     },
     "execution_count": 15,
     "metadata": {},
     "output_type": "execute_result"
    }
   ],
   "source": [
    "print('Shapes')\n",
    "display(audio.X_train.shape)\n",
    "display(audio.X_valid.shape)\n",
    "display(audio.X_test.shape)\n",
    "\n",
    "audio.X_test.head()\n"
   ]
  },
  {
   "cell_type": "code",
   "execution_count": 16,
   "metadata": {},
   "outputs": [
    {
     "name": "stdout",
     "output_type": "stream",
     "text": [
      "Shapes\n"
     ]
    },
    {
     "data": {
      "text/plain": [
       "(36,)"
      ]
     },
     "metadata": {},
     "output_type": "display_data"
    },
    {
     "data": {
      "text/plain": [
       "(8,)"
      ]
     },
     "metadata": {},
     "output_type": "display_data"
    },
    {
     "data": {
      "text/plain": [
       "(8,)"
      ]
     },
     "metadata": {},
     "output_type": "display_data"
    },
    {
     "data": {
      "text/plain": [
       "53    0.939\n",
       "20    0.937\n",
       "7     0.887\n",
       "42    0.800\n",
       "14    0.778\n",
       "Name: valence, dtype: float64"
      ]
     },
     "execution_count": 16,
     "metadata": {},
     "output_type": "execute_result"
    }
   ],
   "source": [
    "print('Shapes')\n",
    "display(audio.Y_train.shape)\n",
    "display(audio.Y_valid.shape)\n",
    "display(audio.Y_test.shape)\n",
    "\n",
    "audio.Y_test.head()"
   ]
  },
  {
   "cell_type": "code",
   "execution_count": 11,
   "metadata": {},
   "outputs": [
    {
     "data": {
      "text/plain": [
       "(36, 90, 1281, 1)"
      ]
     },
     "execution_count": 11,
     "metadata": {},
     "output_type": "execute_result"
    }
   ],
   "source": [
    "audio.X_valid_mel.shape\n",
    "audio.X_test_mel.shape\n",
    "audio.X_train_mel.shape"
   ]
  },
  {
   "attachments": {},
   "cell_type": "markdown",
   "metadata": {},
   "source": [
    "This last data is the X that can be used for CNN models. It is the whole melspectrogram before using the librosa power_to_db method\n",
    "\n",
    "1st dimension is number of songs, 2nd dimension is number of mels, 3rd dimension is related to length of raw audio data\n",
    "\n",
    "4th dimension is used for model training on CNN "
   ]
  },
  {
   "attachments": {},
   "cell_type": "markdown",
   "metadata": {},
   "source": [
    "Below is the original meta data that we loaded"
   ]
  },
  {
   "cell_type": "code",
   "execution_count": 12,
   "metadata": {},
   "outputs": [
    {
     "data": {
      "text/html": [
       "<div>\n",
       "<style scoped>\n",
       "    .dataframe tbody tr th:only-of-type {\n",
       "        vertical-align: middle;\n",
       "    }\n",
       "\n",
       "    .dataframe tbody tr th {\n",
       "        vertical-align: top;\n",
       "    }\n",
       "\n",
       "    .dataframe thead th {\n",
       "        text-align: right;\n",
       "    }\n",
       "</style>\n",
       "<table border=\"1\" class=\"dataframe\">\n",
       "  <thead>\n",
       "    <tr style=\"text-align: right;\">\n",
       "      <th></th>\n",
       "      <th>id</th>\n",
       "      <th>name</th>\n",
       "      <th>artists</th>\n",
       "      <th>valence</th>\n",
       "      <th>filename</th>\n",
       "    </tr>\n",
       "  </thead>\n",
       "  <tbody>\n",
       "    <tr>\n",
       "      <th>0</th>\n",
       "      <td>7lR4CRvHJ6IgX3oHbGeqlQ</td>\n",
       "      <td>Hilux</td>\n",
       "      <td>João Boiadeiro</td>\n",
       "      <td>0.923</td>\n",
       "      <td>./sampled/7lR4CRvHJ6IgX3oHbGeqlQ.mp3</td>\n",
       "    </tr>\n",
       "    <tr>\n",
       "      <th>1</th>\n",
       "      <td>35qOGx1CWvCkQFOv4BkVIV</td>\n",
       "      <td>Esquema Preferido - Ao Vivo</td>\n",
       "      <td>Os Barões Da Pisadinha</td>\n",
       "      <td>0.968</td>\n",
       "      <td>./sampled/35qOGx1CWvCkQFOv4BkVIV.mp3</td>\n",
       "    </tr>\n",
       "    <tr>\n",
       "      <th>2</th>\n",
       "      <td>2vPRrOaM3zvPwrOHoIPjcF</td>\n",
       "      <td>Ele É Ele, Eu Sou Eu</td>\n",
       "      <td>Wesley Safadão \\ Os Barões Da Pisadinha</td>\n",
       "      <td>0.862</td>\n",
       "      <td>./sampled/2vPRrOaM3zvPwrOHoIPjcF.mp3</td>\n",
       "    </tr>\n",
       "    <tr>\n",
       "      <th>3</th>\n",
       "      <td>7as7OL7cmgFZDADgVjQZjz</td>\n",
       "      <td>Meia Noite (Ce Tem Meu Whatsapp) - Ao Vivo</td>\n",
       "      <td>Os Barões Da Pisadinha</td>\n",
       "      <td>0.960</td>\n",
       "      <td>./sampled/7as7OL7cmgFZDADgVjQZjz.mp3</td>\n",
       "    </tr>\n",
       "    <tr>\n",
       "      <th>4</th>\n",
       "      <td>4KyqnztwWZB3Kw1bJAEqPS</td>\n",
       "      <td>Sala de Aula</td>\n",
       "      <td>João Boiadeiro</td>\n",
       "      <td>0.850</td>\n",
       "      <td>./sampled/4KyqnztwWZB3Kw1bJAEqPS.mp3</td>\n",
       "    </tr>\n",
       "  </tbody>\n",
       "</table>\n",
       "</div>"
      ],
      "text/plain": [
       "                       id                                        name  \\\n",
       "0  7lR4CRvHJ6IgX3oHbGeqlQ                                       Hilux   \n",
       "1  35qOGx1CWvCkQFOv4BkVIV                 Esquema Preferido - Ao Vivo   \n",
       "2  2vPRrOaM3zvPwrOHoIPjcF                        Ele É Ele, Eu Sou Eu   \n",
       "3  7as7OL7cmgFZDADgVjQZjz  Meia Noite (Ce Tem Meu Whatsapp) - Ao Vivo   \n",
       "4  4KyqnztwWZB3Kw1bJAEqPS                                Sala de Aula   \n",
       "\n",
       "                                   artists  valence  \\\n",
       "0                           João Boiadeiro    0.923   \n",
       "1                   Os Barões Da Pisadinha    0.968   \n",
       "2  Wesley Safadão \\ Os Barões Da Pisadinha    0.862   \n",
       "3                   Os Barões Da Pisadinha    0.960   \n",
       "4                           João Boiadeiro    0.850   \n",
       "\n",
       "                               filename  \n",
       "0  ./sampled/7lR4CRvHJ6IgX3oHbGeqlQ.mp3  \n",
       "1  ./sampled/35qOGx1CWvCkQFOv4BkVIV.mp3  \n",
       "2  ./sampled/2vPRrOaM3zvPwrOHoIPjcF.mp3  \n",
       "3  ./sampled/7as7OL7cmgFZDADgVjQZjz.mp3  \n",
       "4  ./sampled/4KyqnztwWZB3Kw1bJAEqPS.mp3  "
      ]
     },
     "execution_count": 12,
     "metadata": {},
     "output_type": "execute_result"
    }
   ],
   "source": [
    "audio.df.head()"
   ]
  },
  {
   "attachments": {},
   "cell_type": "markdown",
   "metadata": {},
   "source": [
    "And the raw audio data for each song"
   ]
  },
  {
   "cell_type": "code",
   "execution_count": 13,
   "metadata": {},
   "outputs": [
    {
     "data": {
      "text/plain": [
       "0    [-0.0020327817, 0.027678424, 0.03545276, -0.01...\n",
       "1    [-0.040720813, -0.037129246, -0.021754216, 0.0...\n",
       "2    [0.13886842, 0.2718351, 0.21805392, 0.16034429...\n",
       "3    [0.24515587, 0.3735583, 0.17928192, 0.07805224...\n",
       "4    [0.18225138, 0.43271464, 0.19823687, 0.3303496...\n",
       "Name: y, dtype: object"
      ]
     },
     "execution_count": 13,
     "metadata": {},
     "output_type": "execute_result"
    }
   ],
   "source": [
    "audio.raw.head()"
   ]
  },
  {
   "attachments": {},
   "cell_type": "markdown",
   "metadata": {},
   "source": [
    "The preprocessed data can be gathered and used for various models.\n",
    "\n",
    "For access to the model training results, please contact lucasmouragomes@outlook.com"
   ]
  },
  {
   "attachments": {},
   "cell_type": "markdown",
   "metadata": {},
   "source": [
    "Disclaimer: Audio files were acquired from previews of Spotify API."
   ]
  }
 ],
 "metadata": {
  "kernelspec": {
   "display_name": "base",
   "language": "python",
   "name": "python3"
  },
  "language_info": {
   "codemirror_mode": {
    "name": "ipython",
    "version": 3
   },
   "file_extension": ".py",
   "mimetype": "text/x-python",
   "name": "python",
   "nbconvert_exporter": "python",
   "pygments_lexer": "ipython3",
   "version": "3.9.12"
  },
  "orig_nbformat": 4,
  "vscode": {
   "interpreter": {
    "hash": "e61a596006364d35e57a1a40ade93f686c6323015b209fa50bd8bb0494a4ffc8"
   }
  }
 },
 "nbformat": 4,
 "nbformat_minor": 2
}
