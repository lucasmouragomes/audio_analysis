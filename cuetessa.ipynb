{
  "cells": [
    {
      "cell_type": "markdown",
      "metadata": {
        "id": "YsJgpVbgHrAE"
      },
      "source": [
        "# Song mood prediction using shallow models"
      ]
    },
    {
      "cell_type": "markdown",
      "metadata": {
        "id": "4F2lGH3lHs_V"
      },
      "source": [
        "# Objective: Predicting valence of songs"
      ]
    },
    {
      "cell_type": "markdown",
      "metadata": {
        "id": "KBtmDn8mINSn"
      },
      "source": [
        "### What is valence?"
      ]
    },
    {
      "cell_type": "markdown",
      "metadata": {
        "id": "oFo6ysKJIj2x"
      },
      "source": [
        "Score used to objectively define the musical positiveness of a song, including lyrics, instruments and the audio itself."
      ]
    },
    {
      "cell_type": "markdown",
      "metadata": {
        "id": "a0oy3B8WIW5p"
      },
      "source": [
        "### What are shallow models?"
      ]
    },
    {
      "cell_type": "markdown",
      "metadata": {
        "id": "g4uRYTSFI7Xg"
      },
      "source": [
        "Contrary to the commonly mentioned deep learning models, shallow models use lower ammount of features created from the raw data."
      ]
    },
    {
      "cell_type": "markdown",
      "metadata": {
        "id": "6axfjR72IZFG"
      },
      "source": [
        "### Why is this study relevant?"
      ]
    },
    {
      "cell_type": "markdown",
      "metadata": {
        "id": "PlaPOPI4JL1H"
      },
      "source": [
        "Valence prediciton can be used on music platforms to create playlists, suggest songs based on moods (e.g. for different moments of the day) and help in identifying similar songs.\n",
        "\n",
        "Data from different sources were used in this study, so this could be used as a4 comparative study about data quality for training of shallow models."
      ]
    },
    {
      "cell_type": "markdown",
      "metadata": {
        "id": "TC0JDG4pKK6I"
      },
      "source": [
        "# Methodology"
      ]
    },
    {
      "cell_type": "markdown",
      "metadata": {
        "id": "-pvYWNHrKa8f"
      },
      "source": [
        "### Decide what kind of data will be used"
      ]
    },
    {
      "cell_type": "markdown",
      "metadata": {
        "id": "gpioa-CLKrup"
      },
      "source": [
        "We opted to extract features from raw audio data, so valence scores can be predicted even for instrumental songs."
      ]
    },
    {
      "cell_type": "markdown",
      "metadata": {
        "id": "58dmscKiKMiO"
      },
      "source": [
        "### Find data on the internet"
      ]
    },
    {
      "cell_type": "markdown",
      "metadata": {
        "id": "cS2BnGauKUp5"
      },
      "source": [
        "We used both the Spotify API for developers and the Dataset for Emotional Analysis of Music (DEAM).\n",
        "\n",
        "Spotify API is widely available, it has valence and audio previews for any song on the platform.\n",
        "\n",
        "DEAM has been used in scientific articles as a dataset for model training and it is a reliable source. Songs may not be commercial or famous."
      ]
    },
    {
      "cell_type": "markdown",
      "metadata": {
        "id": "pSbV9_afKi_M"
      },
      "source": [
        "### Extract features"
      ]
    },
    {
      "cell_type": "markdown",
      "metadata": {
        "id": "8L9xP5KFKeEs"
      },
      "source": [
        "Feature extraction methods were found in the literature for raw audio data using the Librosa module. We tried to replicate methods by using:\n",
        "\n",
        "- Chroma\n",
        "- RMS Energy\n",
        "- Spectral Centroid\n",
        "- Rolloff\n",
        "- Zero Cross Ratings\n",
        "- Mel-frequency Ceptrum Coefficient\n",
        "\n",
        "We took the means and variances of both these signals and their first order differentiation signals.\n"
      ]
    },
    {
      "cell_type": "markdown",
      "metadata": {
        "id": "PNosr3RxKnMk"
      },
      "source": [
        "### Analyze the data (EDA) and Train Models"
      ]
    },
    {
      "cell_type": "code",
      "execution_count": null,
      "metadata": {
        "colab": {
          "base_uri": "https://localhost:8080/"
        },
        "id": "EkT5HTToGQ6Z",
        "outputId": "5474ba27-91d4-45e5-f907-354ae147db81"
      },
      "outputs": [],
      "source": [
        "from google.colab import drive\n",
        "# mounting google drive to access data file\n",
        "drive.mount('/content/drive')"
      ]
    },
    {
      "cell_type": "code",
      "execution_count": null,
      "metadata": {
        "colab": {
          "base_uri": "https://localhost:8080/"
        },
        "id": "noxkes2iXeSc",
        "outputId": "40591e49-d063-47b8-f013-be2d8deeb4fb"
      },
      "outputs": [],
      "source": [
        "# Import spotipy for easy access to the spotify API\n",
        "!pip install spotipy --quiet\n",
        "import spotipy\n",
        "import spotipy.util as util\n",
        "from spotipy.oauth2 import SpotifyClientCredentials\n",
        "from spotipy.oauth2 import SpotifyOAuth\n",
        "\n",
        "# Import python stuff\n",
        "import requests\n",
        "import shutil\n",
        "import numpy as np\n",
        "import pandas as pd\n",
        "import os\n",
        "import os.path as path\n",
        "from IPython.display import display, Audio\n",
        "import matplotlib.pyplot as plt\n",
        "import warnings\n",
        "import joblib\n",
        "import yaml\n",
        "from tqdm import tqdm\n",
        "import seaborn as sns\n",
        "from sklearn.preprocessing import minmax_scale\n",
        "\n",
        "# Import librosa for audio processing\n",
        "import librosa\n",
        "import librosa.display"
      ]
    },
    {
      "cell_type": "code",
      "execution_count": null,
      "metadata": {
        "colab": {
          "base_uri": "https://localhost:8080/"
        },
        "id": "XS2i5BoTsxJb",
        "outputId": "188f3034-1558-48e5-f789-02a4c0d19e92"
      },
      "outputs": [
        {
          "name": "stdout",
          "output_type": "stream",
          "text": [
            "Feature Data\n",
            "x train shape:  (1196, 104)\n",
            "x test shape (298, 104)\n",
            "x valid shape (298, 104)\n",
            "\n",
            "Target Data\n",
            "y train shape:  (1196, 1)\n",
            "y test shape (298, 1)\n",
            "y valid shape (298, 1)\n"
          ]
        }
      ],
      "source": [
        "# importing features and train files\n",
        "x_train = pd.read_csv('/content/drive/MyDrive/data_project_cuetessa/X_train.csv', index_col = 'Unnamed: 0')\n",
        "x_test =  pd.read_csv('/content/drive/MyDrive/data_project_cuetessa/X_test.csv', index_col = 'Unnamed: 0')\n",
        "x_valid =  pd.read_csv('/content/drive/MyDrive/data_project_cuetessa/X_valid.csv', index_col = 'Unnamed: 0')\n",
        "y_train = pd.read_csv('/content/drive/MyDrive/data_project_cuetessa/Y_train.csv', index_col = 'Unnamed: 0')\n",
        "y_test =  pd.read_csv('/content/drive/MyDrive/data_project_cuetessa/Y_test.csv', index_col = 'Unnamed: 0')\n",
        "y_valid =  pd.read_csv('/content/drive/MyDrive/data_project_cuetessa/Y_valid.csv', index_col = 'Unnamed: 0')\n",
        "\n",
        "print('Feature Data')\n",
        "print('x train shape: ', x_train.shape)\n",
        "print('x test shape', x_test.shape)\n",
        "print('x valid shape', x_valid.shape)\n",
        "print()\n",
        "print('Target Data')\n",
        "print('y train shape: ', y_train.shape)\n",
        "print('y test shape', y_test.shape)\n",
        "print('y valid shape', y_valid.shape)\n"
      ]
    },
    {
      "cell_type": "markdown",
      "metadata": {},
      "source": [
        "Below is a least of every feature considered for model training."
      ]
    },
    {
      "cell_type": "code",
      "execution_count": null,
      "metadata": {
        "colab": {
          "base_uri": "https://localhost:8080/"
        },
        "id": "fFjpeMwlORyM",
        "outputId": "eee76956-69c1-426a-b292-c8c1b31cfaa2"
      },
      "outputs": [
        {
          "data": {
            "text/plain": [
              "array(['chroma_mean', 'chroma_var', 'chroma_meandif', 'chroma_vardif',\n",
              "       'rmse_mean', 'rmse_var', 'rmse_meandif', 'rmse_vardif',\n",
              "       'spec_cent_mean', 'spec_cent_var', 'spec_cent_meandif',\n",
              "       'spec_cent_vardif', 'spec_bw_mean', 'spec_bw_var',\n",
              "       'spec_bw_meandif', 'spec_bw_vardif', 'rolloff_mean', 'rolloff_var',\n",
              "       'rolloff_meandif', 'rolloff_vardif', 'zcr_mean', 'zcr_var',\n",
              "       'zcr_meandif', 'zcr_vardif', 'mfcc0_mean', 'mfcc0_var',\n",
              "       'mfcc0_meandif', 'mfcc0_vardif', 'mfcc1_mean', 'mfcc1_var',\n",
              "       'mfcc1_meandif', 'mfcc1_vardif', 'mfcc2_mean', 'mfcc2_var',\n",
              "       'mfcc2_meandif', 'mfcc2_vardif', 'mfcc3_mean', 'mfcc3_var',\n",
              "       'mfcc3_meandif', 'mfcc3_vardif', 'mfcc4_mean', 'mfcc4_var',\n",
              "       'mfcc4_meandif', 'mfcc4_vardif', 'mfcc5_mean', 'mfcc5_var',\n",
              "       'mfcc5_meandif', 'mfcc5_vardif', 'mfcc6_mean', 'mfcc6_var',\n",
              "       'mfcc6_meandif', 'mfcc6_vardif', 'mfcc7_mean', 'mfcc7_var',\n",
              "       'mfcc7_meandif', 'mfcc7_vardif', 'mfcc8_mean', 'mfcc8_var',\n",
              "       'mfcc8_meandif', 'mfcc8_vardif', 'mfcc9_mean', 'mfcc9_var',\n",
              "       'mfcc9_meandif', 'mfcc9_vardif', 'mfcc10_mean', 'mfcc10_var',\n",
              "       'mfcc10_meandif', 'mfcc10_vardif', 'mfcc11_mean', 'mfcc11_var',\n",
              "       'mfcc11_meandif', 'mfcc11_vardif', 'mfcc12_mean', 'mfcc12_var',\n",
              "       'mfcc12_meandif', 'mfcc12_vardif', 'mfcc13_mean', 'mfcc13_var',\n",
              "       'mfcc13_meandif', 'mfcc13_vardif', 'mfcc14_mean', 'mfcc14_var',\n",
              "       'mfcc14_meandif', 'mfcc14_vardif', 'mfcc15_mean', 'mfcc15_var',\n",
              "       'mfcc15_meandif', 'mfcc15_vardif', 'mfcc16_mean', 'mfcc16_var',\n",
              "       'mfcc16_meandif', 'mfcc16_vardif', 'mfcc17_mean', 'mfcc17_var',\n",
              "       'mfcc17_meandif', 'mfcc17_vardif', 'mfcc18_mean', 'mfcc18_var',\n",
              "       'mfcc18_meandif', 'mfcc18_vardif', 'mfcc19_mean', 'mfcc19_var',\n",
              "       'mfcc19_meandif', 'mfcc19_vardif'], dtype=object)"
            ]
          },
          "execution_count": 4,
          "metadata": {},
          "output_type": "execute_result"
        }
      ],
      "source": [
        "x_train.columns.values"
      ]
    },
    {
      "cell_type": "markdown",
      "metadata": {},
      "source": [
        "These are the Pearon correlation values for every feature."
      ]
    },
    {
      "cell_type": "code",
      "execution_count": null,
      "metadata": {
        "colab": {
          "base_uri": "https://localhost:8080/"
        },
        "id": "1kzl_cQwT0AB",
        "outputId": "9078c53a-6b65-42e1-ac95-45f06cfbc80f"
      },
      "outputs": [
        {
          "data": {
            "text/plain": [
              "mfcc0_mean        0.564614\n",
              "rolloff_mean      0.547272\n",
              "spec_cent_mean    0.524815\n",
              "spec_bw_mean      0.509111\n",
              "chroma_vardif     0.411423\n",
              "zcr_mean          0.384039\n",
              "mfcc13_mean       0.363900\n",
              "mfcc7_mean        0.355339\n",
              "mfcc9_mean        0.349365\n",
              "mfcc16_vardif     0.343538\n",
              "mfcc15_mean       0.334761\n",
              "mfcc17_vardif     0.332201\n",
              "mfcc14_vardif     0.330344\n",
              "mfcc17_mean       0.327830\n",
              "mfcc15_vardif     0.326495\n",
              "mfcc11_mean       0.321137\n",
              "mfcc18_vardif     0.320691\n",
              "mfcc13_vardif     0.312322\n",
              "mfcc8_vardif      0.304462\n",
              "mfcc12_vardif     0.302653\n",
              "Name: valence_mean, dtype: float64"
            ]
          },
          "execution_count": 5,
          "metadata": {},
          "output_type": "execute_result"
        }
      ],
      "source": [
        "x_train.join(y_train).corr()['valence_mean'].sort_values(ascending=False)[1:].head(20)"
      ]
    },
    {
      "cell_type": "markdown",
      "metadata": {},
      "source": [
        "The graph below shows that data has been correctly distributed between training, testing and validation datasets."
      ]
    },
    {
      "cell_type": "code",
      "execution_count": null,
      "metadata": {
        "colab": {
          "base_uri": "https://localhost:8080/",
          "height": 446
        },
        "id": "gh-ifkVIQbZ0",
        "outputId": "3f52c28b-ab62-4bde-9d30-8ef9efd2f9ff"
      },
      "outputs": [
        {
          "data": {
            "image/png": "[encoded data removed]",
            "text/plain": [
              "<Figure size 684x684 with 1 Axes>"
            ]
          },
          "metadata": {
            "needs_background": "light"
          },
          "output_type": "display_data"
        }
      ],
      "source": [
        "plt.figure(figsize=(9.5,9.5))\n",
        "sns.violinplot(data=[y_train, y_valid, y_test])\n",
        "ax = plt.gca()\n",
        "ax.set_xticklabels(labels=['train', 'validation', 'test'])\n",
        "ax.set_title('Violin plots for valence scores of DEAM')\n",
        "plt.show()"
      ]
    },
    {
      "cell_type": "code",
      "execution_count": null,
      "metadata": {
        "colab": {
          "base_uri": "https://localhost:8080/"
        },
        "id": "DvFlqRLeO70D",
        "outputId": "4f6bbf63-022f-4e9d-903d-ab59c7f01f1f"
      },
      "outputs": [
        {
          "name": "stdout",
          "output_type": "stream",
          "text": [
            "Feature Data\n",
            "x train shape:  (1084, 156)\n",
            "x test shape (272, 156)\n",
            "x valid shape (270, 156)\n",
            "\n",
            "Target Data\n",
            "y train shape:  (1084, 1)\n",
            "y test shape (272, 1)\n",
            "y valid shape (270, 1)\n"
          ]
        }
      ],
      "source": [
        "# importing features and train files\n",
        "spotify_x_train = pd.read_csv('/content/drive/MyDrive/data_project_cuetessa/spotify_X_train.csv', index_col = 'Unnamed: 0')\n",
        "spotify_x_test =  pd.read_csv('/content/drive/MyDrive/data_project_cuetessa/spotify_X_test.csv', index_col = 'Unnamed: 0')\n",
        "spotify_x_valid =  pd.read_csv('/content/drive/MyDrive/data_project_cuetessa/spotify_X_valid.csv', index_col = 'Unnamed: 0')\n",
        "spotify_y_train = pd.read_csv('/content/drive/MyDrive/data_project_cuetessa/spotify_Y_train.csv', index_col = 'Unnamed: 0')\n",
        "spotify_y_test =  pd.read_csv('/content/drive/MyDrive/data_project_cuetessa/spotify_Y_test.csv', index_col = 'Unnamed: 0')\n",
        "spotify_y_valid =  pd.read_csv('/content/drive/MyDrive/data_project_cuetessa/spotify_Y_valid.csv', index_col = 'Unnamed: 0')\n",
        "\n",
        "print('Feature Data')\n",
        "print('x train shape: ', spotify_x_train.shape)\n",
        "print('x test shape', spotify_x_test.shape)\n",
        "print('x valid shape', spotify_x_valid.shape)\n",
        "print()\n",
        "print('Target Data')\n",
        "print('y train shape: ', spotify_y_train.shape)\n",
        "print('y test shape', spotify_y_test.shape)\n",
        "print('y valid shape', spotify_y_valid.shape)"
      ]
    },
    {
      "cell_type": "markdown",
      "metadata": {},
      "source": [
        "Since valence is prone to subjective error, it is valid to analyze distributions of both datasets.\n",
        "The probability distributions for both datasets are very different from each other.\n",
        "Spotify is reportedly considered less reliable."
      ]
    },
    {
      "cell_type": "code",
      "execution_count": null,
      "metadata": {
        "colab": {
          "base_uri": "https://localhost:8080/",
          "height": 446
        },
        "id": "BwldasyzQaMa",
        "outputId": "93b49643-e51c-4f4a-a6f2-fda9e12172e0"
      },
      "outputs": [
        {
          "data": {
            "image/png": "[encoded data removed]",
            "text/plain": [
              "<Figure size 684x684 with 1 Axes>"
            ]
          },
          "metadata": {
            "needs_background": "light"
          },
          "output_type": "display_data"
        }
      ],
      "source": [
        "plt.figure(figsize=(9.5,9.5))\n",
        "sns.violinplot(data=[spotify_y_train, y_train])\n",
        "ax = plt.gca()\n",
        "ax.set_xticklabels(['Spotify', 'DEAM'])\n",
        "ax.set_title('Comparison between Spotify and DEAM')\n",
        "plt.show()"
      ]
    },
    {
      "cell_type": "markdown",
      "metadata": {},
      "source": [
        "We will try several models for machine learning training."
      ]
    },
    {
      "cell_type": "code",
      "execution_count": null,
      "metadata": {
        "colab": {
          "base_uri": "https://localhost:8080/"
        },
        "id": "heWt3ZYJIzfJ",
        "outputId": "aacfebee-9033-4949-e13d-92d4f4889b4f"
      },
      "outputs": [],
      "source": [
        "#libraries used for training\n",
        "from sklearn.linear_model import LinearRegression as lr\n",
        "from sklearn.model_selection import train_test_split, GridSearchCV, RandomizedSearchCV\n",
        "from sklearn.metrics import mean_squared_error, mean_absolute_error\n",
        "import math\n",
        "from sklearn.svm import SVR\n",
        "from sklearn.ensemble import RandomForestRegressor\n",
        "import xgboost as xgb\n",
        "from hyperopt import STATUS_OK, Trials, fmin, hp, tpe\n",
        "from sklearn.neighbors import KNeighborsRegressor\n",
        "from sklearn.preprocessing import StandardScaler\n",
        "!pip install catboost\n",
        "import catboost"
      ]
    },
    {
      "cell_type": "markdown",
      "metadata": {
        "id": "63kxIgjINLIx"
      },
      "source": [
        "Model 0: Linear Regression Model"
      ]
    },
    {
      "cell_type": "code",
      "execution_count": null,
      "metadata": {
        "id": "1qxoT8asNTBo"
      },
      "outputs": [],
      "source": [
        "# defining feature, target, validation variables for model\n",
        "features_train_0 = x_train\n",
        "features_valid_0 = x_valid\n",
        "features_test_0 = x_test\n",
        "\n",
        "target_train_0 = y_train\n",
        "target_valid_0 = y_valid\n",
        "target_test_0 = y_test"
      ]
    },
    {
      "cell_type": "code",
      "execution_count": null,
      "metadata": {
        "colab": {
          "base_uri": "https://localhost:8080/"
        },
        "id": "xnmG036zNGO8",
        "outputId": "abb19303-116e-4315-f70f-110670c34131"
      },
      "outputs": [],
      "source": [
        "model_0 = lr()\n",
        "model_0.fit(features_train_0, target_train_0)\n",
        "predicted_0 = model_0.predict(features_valid_0)\n",
        "\n",
        "\n",
        "mse_0 = mean_squared_error(predicted_0, target_valid_0)\n",
        "rmse_0 = math.sqrt(mse_0)\n",
        "mae_0 = mean_absolute_error(predicted_0, target_valid_0)\n",
        "print('mae_0 :', mae_0)\n",
        "print('rmse_0 :', rmse_0)"
      ]
    },
    {
      "cell_type": "markdown",
      "metadata": {
        "id": "qiKsbaLNOak4"
      },
      "source": [
        "Model_0b: Linear Regression Model, Normalized Features\n"
      ]
    },
    {
      "cell_type": "code",
      "execution_count": null,
      "metadata": {
        "colab": {
          "base_uri": "https://localhost:8080/"
        },
        "id": "5ldG9ZydK6ld",
        "outputId": "341ab688-c4fb-4102-894c-5609fa842f2a"
      },
      "outputs": [],
      "source": [
        "all_features = pd.concat([x_train, x_valid, x_test])\n",
        "print('all features shape',all_features.shape)\n",
        "\n",
        "#norm\n",
        "scaler_0b = StandardScaler()\n",
        "scaler_0b.fit(all_features)\n",
        "\n",
        "features_train_0b = scaler_0b.transform(features_train_0)\n",
        "features_valid_0b = scaler_0b.transform(features_valid_0)\n",
        "features_test_0b = scaler_0b.transform(features_test_0)\n",
        "\n",
        "target_train_0b = target_train_0\n",
        "target_valid_0b = target_valid_0\n",
        "target_test_0 = target_test_0"
      ]
    },
    {
      "cell_type": "code",
      "execution_count": null,
      "metadata": {
        "colab": {
          "base_uri": "https://localhost:8080/"
        },
        "id": "WDunBJg3QEb2",
        "outputId": "ce495da6-ca67-487a-8ae3-bdef1005edf5"
      },
      "outputs": [],
      "source": [
        "model_0b = lr()\n",
        "model_0b.fit(features_train_0b, target_train_0b)\n",
        "predicted_0b = model_0b.predict(features_valid_0b)\n",
        "\n",
        "\n",
        "mse_0b = mean_squared_error(predicted_0b, target_valid_0b)\n",
        "rmse_0b = math.sqrt(mse_0b)\n",
        "mae_0b = mean_absolute_error(predicted_0b, target_valid_0b)\n",
        "print('mae_0b :', mae_0b)\n",
        "print('rmse_0b :', rmse_0b)"
      ]
    },
    {
      "cell_type": "markdown",
      "metadata": {
        "id": "WAlgxeXUR3xf"
      },
      "source": [
        "Model 1: XGBoost Regressor"
      ]
    },
    {
      "cell_type": "code",
      "execution_count": null,
      "metadata": {
        "id": "tb9iOwyLSuFO"
      },
      "outputs": [],
      "source": [
        "# defining feature, target, validation variables for model\n",
        "features_train_1 = x_train\n",
        "features_valid_1 = x_valid\n",
        "features_test_1 = x_test\n",
        "\n",
        "target_train_1 = y_train\n",
        "target_valid_1 = y_valid\n",
        "target_test_1 = y_test"
      ]
    },
    {
      "cell_type": "code",
      "execution_count": null,
      "metadata": {
        "id": "dgSJD_pCS7Ax"
      },
      "outputs": [],
      "source": [
        "#using RandomizedSearchCV for hyper parameter tuning\n",
        "\n",
        "params_1 = {'booster' : ['gbtree', 'gblinear'],\n",
        "         'eta' : list(np.arange(0.01, 0.3, 0.01)),\n",
        "         'max_depth': list(range(3,11)),\n",
        "         'gamma': list(range(1,11)),\n",
        "         'min_child_weight' : list(range(1,11))}"
      ]
    },
    {
      "cell_type": "code",
      "execution_count": null,
      "metadata": {
        "id": "IgqrWpcXTB3J"
      },
      "outputs": [],
      "source": [
        "model_1 = xgb.XGBRegressor(seed=12345)\n",
        "\n",
        "rscv_1 = RandomizedSearchCV(estimator=model_1, param_distributions = params_1, cv=4, verbose=2, scoring = 'neg_root_mean_squared_error')\n",
        "rscv_1.fit(features_train_1, target_train_1)"
      ]
    },
    {
      "cell_type": "code",
      "execution_count": null,
      "metadata": {
        "colab": {
          "base_uri": "https://localhost:8080/"
        },
        "id": "suDDxdqzS-Ok",
        "outputId": "a3b538d3-5368-47e0-efb4-419f0fc48fdc"
      },
      "outputs": [],
      "source": [
        "rscv_1.best_params_"
      ]
    },
    {
      "cell_type": "code",
      "execution_count": null,
      "metadata": {
        "colab": {
          "base_uri": "https://localhost:8080/"
        },
        "id": "9zTy4ONOTQzM",
        "outputId": "16e23d00-7f7d-4fe4-886c-d6a877dc994d"
      },
      "outputs": [],
      "source": [
        "model_1v = xgb.XGBRegressor(seed=12345,\n",
        "                            booster = rscv_1.best_params_['booster'],\n",
        "                            eta = rscv_1.best_params_['eta'],\n",
        "                            max_depth = rscv_1.best_params_['max_depth'],\n",
        "                            gamma = rscv_1.best_params_['gamma'],\n",
        "                            min_child_weight = rscv_1.best_params_['min_child_weight'])\n",
        "\n",
        "model_1v.fit(features_train_1, target_train_1)\n",
        "predicted_1 = model_1v.predict(features_valid_1)\n",
        "rmse_1 = math.sqrt(mean_squared_error(predicted_1, target_valid_1))\n",
        "mae_1 = mean_absolute_error(predicted_1, target_valid_1)\n",
        "\n",
        "print('mae_1 :', mae_1)\n",
        "print('rmse_1 :', rmse_1)"
      ]
    },
    {
      "cell_type": "markdown",
      "metadata": {
        "id": "xzt4GPFuGqzy"
      },
      "source": [
        "Model 1b: XGboost Regressor, Normalized Features"
      ]
    },
    {
      "cell_type": "code",
      "execution_count": null,
      "metadata": {
        "id": "Vp8IpDneUOUY"
      },
      "outputs": [],
      "source": [
        "# defining training, validation, and testing varaibles\n",
        "\n",
        "features_train_1b = scaler_0b.transform(features_train_0)\n",
        "features_valid_1b = scaler_0b.transform(features_valid_0)\n",
        "features_test_1b = scaler_0b.transform(features_test_0)\n",
        "\n",
        "target_train_1b = target_train_0\n",
        "target_valid_1b = target_valid_0\n",
        "target_test_1b = target_test_0"
      ]
    },
    {
      "cell_type": "code",
      "execution_count": null,
      "metadata": {
        "id": "NWuZcRuOUZwz"
      },
      "outputs": [],
      "source": [
        "#using RandomizedSearchCV for hyper parameter tuning\n",
        "\n",
        "params_1b = {'booster' : ['gbtree', 'gblinear'],\n",
        "         'eta' : list(np.arange(0.01, 0.3, 0.01)),\n",
        "         'max_depth': list(range(3,11)),\n",
        "         'gamma': list(range(1,11)),\n",
        "         'min_child_weight' : list(range(1,11))}"
      ]
    },
    {
      "cell_type": "code",
      "execution_count": null,
      "metadata": {
        "id": "9JRBdhDoUgdQ"
      },
      "outputs": [],
      "source": [
        "model_1b = xgb.XGBRegressor(seed=12345)\n",
        "\n",
        "rscv_1b = RandomizedSearchCV(estimator=model_1b, param_distributions = params_1b, cv=4, verbose=2, scoring = 'neg_root_mean_squared_error')\n",
        "rscv_1b.fit(features_train_1b, target_train_1b)"
      ]
    },
    {
      "cell_type": "code",
      "execution_count": null,
      "metadata": {
        "colab": {
          "base_uri": "https://localhost:8080/"
        },
        "id": "mY8Srm7OUseT",
        "outputId": "57c508ea-9203-46b2-9a28-cb94433e942a"
      },
      "outputs": [],
      "source": [
        "rscv_1b.best_params_"
      ]
    },
    {
      "cell_type": "code",
      "execution_count": null,
      "metadata": {
        "colab": {
          "base_uri": "https://localhost:8080/"
        },
        "id": "AyD1rs1ZUte_",
        "outputId": "0dd5fee3-3725-48cc-9d3f-10e09e10c50c"
      },
      "outputs": [],
      "source": [
        "model_1vb = xgb.XGBRegressor(seed=12345,\n",
        "                            booster = rscv_1b.best_params_['booster'],\n",
        "                            eta = rscv_1b.best_params_['eta'],\n",
        "                            max_depth = rscv_1b.best_params_['max_depth'],\n",
        "                            gamma = rscv_1b.best_params_['gamma'],\n",
        "                            min_child_weight = rscv_1b.best_params_['min_child_weight'])\n",
        "\n",
        "model_1vb.fit(features_train_1b, target_train_1b)\n",
        "predicted_1b = model_1vb.predict(features_valid_1b)\n",
        "rmse_1b = math.sqrt(mean_squared_error(predicted_1b, target_valid_1b))\n",
        "mae_1b = mean_absolute_error(predicted_1b, target_valid_1b)\n",
        "\n",
        "print('mae_1b :', mae_1b)\n",
        "print('rmse_1b :', rmse_1b)"
      ]
    },
    {
      "cell_type": "markdown",
      "metadata": {
        "id": "PvblPvLoVaSw"
      },
      "source": [
        "Model 2: Support Vector Regressor"
      ]
    },
    {
      "cell_type": "code",
      "execution_count": null,
      "metadata": {
        "id": "w2_HP-iLVZNC"
      },
      "outputs": [],
      "source": [
        "# defining feature, target, validation variables for model\n",
        "features_train_2 = x_train\n",
        "features_valid_2 = x_valid\n",
        "features_test_2 = x_test\n",
        "\n",
        "target_train_2 = y_train\n",
        "target_valid_2 = y_valid\n",
        "target_test_2 = y_test"
      ]
    },
    {
      "cell_type": "code",
      "execution_count": null,
      "metadata": {
        "id": "hCnKf5PGWjCs"
      },
      "outputs": [],
      "source": [
        "#using RandomizedSearchCV for hyper parameter tuning\n",
        "\n",
        "params_2 = {'kernel' : ['rbf'],\n",
        "            'gamma' : list(np.arange(0.001, 10.1, 0.1)),\n",
        "            'C' : list(np.arange(0.1, 100.1, 0.1)),\n",
        "            'epsilon' : list(np.arange(0.1, 0.5, 0.1))}\n",
        "\n",
        "params_2['gamma'].append('scale')\n",
        "params_2['gamma'].append('auto')"
      ]
    },
    {
      "cell_type": "code",
      "execution_count": null,
      "metadata": {
        "id": "sSAQ6Lw0WoDc"
      },
      "outputs": [],
      "source": [
        "model_2 = SVR()\n",
        "\n",
        "rscv_2 = RandomizedSearchCV(estimator=model_2, param_distributions = params_2, cv=3, verbose=2, scoring = 'neg_root_mean_squared_error')\n",
        "rscv_2.fit(features_train_2, target_train_2)"
      ]
    },
    {
      "cell_type": "code",
      "execution_count": null,
      "metadata": {
        "colab": {
          "base_uri": "https://localhost:8080/"
        },
        "id": "M9Ee-4QrWxVf",
        "outputId": "41ea6dbc-63f7-4508-c868-5d595b1822c1"
      },
      "outputs": [],
      "source": [
        "rscv_2.best_params_"
      ]
    },
    {
      "cell_type": "code",
      "execution_count": null,
      "metadata": {
        "colab": {
          "base_uri": "https://localhost:8080/"
        },
        "id": "oDmGTP7dW1Z0",
        "outputId": "601058e8-3473-4736-a882-7344cd0ee067"
      },
      "outputs": [],
      "source": [
        "model_2v = SVR(kernel = rscv_2.best_params_['kernel'],\n",
        "               gamma = rscv_2.best_params_['gamma'],\n",
        "               epsilon = rscv_2.best_params_['epsilon'],\n",
        "               C = rscv_2.best_params_['C'])\n",
        "\n",
        "model_2v.fit(features_train_2, target_train_2)\n",
        "predicted_2 = model_2v.predict(features_valid_2)\n",
        "rmse_2 = math.sqrt(mean_squared_error(predicted_2, target_valid_2))\n",
        "mae_2 = mean_absolute_error(predicted_2, target_valid_2)\n",
        "\n",
        "print('mae_2 :', mae_2)\n",
        "print('rmse_2 :', rmse_2)"
      ]
    },
    {
      "cell_type": "markdown",
      "metadata": {
        "id": "drXocgaDXSpo"
      },
      "source": [
        "Model 2b: Support Vector Regressor, Normalized Data"
      ]
    },
    {
      "cell_type": "code",
      "execution_count": null,
      "metadata": {
        "id": "6EBx462cXEmi"
      },
      "outputs": [],
      "source": [
        "# defining training, validation, and testing varaibles\n",
        "\n",
        "features_train_2b = scaler_0b.transform(features_train_0)\n",
        "features_valid_2b = scaler_0b.transform(features_valid_0)\n",
        "features_test_2b = scaler_0b.transform(features_test_0)\n",
        "\n",
        "target_train_2b = target_train_0\n",
        "target_valid_2b = target_valid_0\n",
        "target_test_2b = target_test_0"
      ]
    },
    {
      "cell_type": "code",
      "execution_count": null,
      "metadata": {
        "id": "3DaLHOHZYtxj"
      },
      "outputs": [],
      "source": [
        "#using RandomizedSearchCV for hyper parameter tuning\n",
        "\n",
        "params_2b = {'kernel' : ['rbf'],\n",
        "            'gamma' : list(np.arange(0.001, 10.1, 0.1)),\n",
        "            'C' : list(np.arange(0.1, 100.1, 0.1)),\n",
        "            'epsilon' : list(np.arange(0.1, 0.5, 0.1))}\n",
        "\n",
        "params_2b['gamma'].append('scale')\n",
        "params_2b['gamma'].append('auto')"
      ]
    },
    {
      "cell_type": "code",
      "execution_count": null,
      "metadata": {
        "id": "WqWPanSzY4tm"
      },
      "outputs": [],
      "source": [
        "model_2b = SVR()\n",
        "\n",
        "rscv_2b = RandomizedSearchCV(estimator=model_2b, param_distributions = params_2b, cv=3, verbose=2, scoring = 'neg_root_mean_squared_error')\n",
        "rscv_2b.fit(features_train_2b, target_train_2b)"
      ]
    },
    {
      "cell_type": "code",
      "execution_count": null,
      "metadata": {
        "colab": {
          "base_uri": "https://localhost:8080/"
        },
        "id": "TSAiH0RnZA90",
        "outputId": "fbd51cf6-05b1-42cf-99a9-5a5ad9a3fdfe"
      },
      "outputs": [],
      "source": [
        "model_2vb = SVR(kernel = rscv_2b.best_params_['kernel'],\n",
        "               gamma = rscv_2b.best_params_['gamma'],\n",
        "               epsilon = rscv_2b.best_params_['epsilon'],\n",
        "               C = rscv_2b.best_params_['C'])\n",
        "\n",
        "model_2vb.fit(features_train_2b, target_train_2b)\n",
        "predicted_2b = model_2vb.predict(features_valid_2b)\n",
        "rmse_2b = math.sqrt(mean_squared_error(predicted_2b, target_valid_2b))\n",
        "mae_2b = mean_absolute_error(predicted_2b, target_valid_2b)\n",
        "\n",
        "print('mae_2b :', mae_2b)\n",
        "print('rmse_2b :', rmse_2b)"
      ]
    },
    {
      "cell_type": "markdown",
      "metadata": {
        "id": "KqzkMMR0ajuI"
      },
      "source": [
        "Model 3: K-Nearest Neighbors Regressor"
      ]
    },
    {
      "cell_type": "code",
      "execution_count": null,
      "metadata": {
        "id": "XHuNA-PPZT2j"
      },
      "outputs": [],
      "source": [
        "# defining feature, target, validation variables for model\n",
        "features_train_3 = x_train\n",
        "features_valid_3 = x_valid\n",
        "features_test_3 = x_test\n",
        "\n",
        "target_train_3 = y_train\n",
        "target_valid_3 = y_valid\n",
        "target_test_3 = y_test"
      ]
    },
    {
      "cell_type": "code",
      "execution_count": null,
      "metadata": {
        "id": "bHYtA4y8bhVo"
      },
      "outputs": [],
      "source": [
        "#using RandomizedSearchCV for hyper parameter tuning\n",
        "\n",
        "params_3 = {'n_neighbors' : list(range(1,50)),\n",
        "            'weights' : ['uniform', 'distance'],\n",
        "            'p' : [1,2],\n",
        "            'metric' : ['l1','l2']}"
      ]
    },
    {
      "cell_type": "code",
      "execution_count": null,
      "metadata": {
        "id": "D_UA3lqgbva7"
      },
      "outputs": [],
      "source": [
        "model_3 = KNeighborsRegressor()\n",
        "\n",
        "rscv_3 = RandomizedSearchCV(estimator=model_3, param_distributions = params_3, cv=4, verbose=2, scoring = 'neg_root_mean_squared_error')\n",
        "rscv_3.fit(features_train_3, target_train_3)"
      ]
    },
    {
      "cell_type": "code",
      "execution_count": null,
      "metadata": {
        "colab": {
          "base_uri": "https://localhost:8080/"
        },
        "id": "CioaRm3Lb21d",
        "outputId": "d742bd6e-3b92-4e41-c231-6fdc3d72ad48"
      },
      "outputs": [],
      "source": [
        "rscv_3.best_params_"
      ]
    },
    {
      "cell_type": "code",
      "execution_count": null,
      "metadata": {
        "colab": {
          "base_uri": "https://localhost:8080/"
        },
        "id": "iSFFOJ-Rb84_",
        "outputId": "dec0f4df-7182-4548-febe-02acbaac8520"
      },
      "outputs": [],
      "source": [
        "model_3v = KNeighborsRegressor(weights = rscv_3.best_params_['weights'],\n",
        "                               p= rscv_3.best_params_['p'],\n",
        "                               n_neighbors= rscv_3.best_params_['n_neighbors'],\n",
        "                               metric = rscv_3.best_params_['metric'])\n",
        "\n",
        "model_3v.fit(features_train_3, target_train_3)\n",
        "predicted_3 = model_3v.predict(features_valid_3)\n",
        "rmse_3 = math.sqrt(mean_squared_error(predicted_3, target_valid_3))\n",
        "mae_3 = mean_absolute_error(predicted_3, target_valid_3)\n",
        "\n",
        "print('mae_3 :', mae_3)\n",
        "print('rmse_3 :', rmse_3)"
      ]
    },
    {
      "cell_type": "markdown",
      "metadata": {
        "id": "CTedEPCYcvDD"
      },
      "source": [
        "Model 3b: K-Nearest Neighbors Regressor, Normalized Data\n"
      ]
    },
    {
      "cell_type": "code",
      "execution_count": null,
      "metadata": {
        "id": "xoGZNLqNcmyJ"
      },
      "outputs": [],
      "source": [
        "# defining training, validation, and testing varaibles\n",
        "\n",
        "features_train_3b = scaler_0b.transform(features_train_0)\n",
        "features_valid_3b = scaler_0b.transform(features_valid_0)\n",
        "features_test_3b = scaler_0b.transform(features_test_0)\n",
        "\n",
        "target_train_3b = target_train_0\n",
        "target_valid_3b = target_valid_0\n",
        "target_test_3b = target_test_0"
      ]
    },
    {
      "cell_type": "code",
      "execution_count": null,
      "metadata": {
        "id": "foSr0st3c900"
      },
      "outputs": [],
      "source": [
        "#using RandomizedSearchCV for hyper parameter tuning\n",
        "\n",
        "params_3b = {'n_neighbors' : list(range(1,50)),\n",
        "            'weights' : ['uniform', 'distance'],\n",
        "            'p' : [1,2],\n",
        "            'metric' : ['l1','l2']}"
      ]
    },
    {
      "cell_type": "code",
      "execution_count": null,
      "metadata": {
        "id": "Hj5i280hdCYE"
      },
      "outputs": [],
      "source": [
        "model_3b = KNeighborsRegressor()\n",
        "\n",
        "rscv_3b = RandomizedSearchCV(estimator=model_3b, param_distributions = params_3b, cv=4, verbose=2, scoring = 'neg_root_mean_squared_error')\n",
        "rscv_3b.fit(features_train_3b, target_train_3b)"
      ]
    },
    {
      "cell_type": "code",
      "execution_count": null,
      "metadata": {
        "colab": {
          "base_uri": "https://localhost:8080/"
        },
        "id": "uY2iiUT7dNR5",
        "outputId": "524a6946-236c-4d79-b17c-f3991fceb5d8"
      },
      "outputs": [],
      "source": [
        "rscv_3b.best_params_"
      ]
    },
    {
      "cell_type": "code",
      "execution_count": null,
      "metadata": {
        "colab": {
          "base_uri": "https://localhost:8080/"
        },
        "id": "PLfxHkh9dOlm",
        "outputId": "d645970d-528f-4bc5-cffd-8be3f9a834e2"
      },
      "outputs": [],
      "source": [
        "model_3vb = KNeighborsRegressor(weights = rscv_3b.best_params_['weights'],\n",
        "                               p= rscv_3b.best_params_['p'],\n",
        "                               n_neighbors= rscv_3b.best_params_['n_neighbors'],\n",
        "                               metric = rscv_3b.best_params_['metric'])\n",
        "\n",
        "model_3vb.fit(features_train_3b, target_train_3b)\n",
        "predicted_3b = model_3vb.predict(features_valid_3b)\n",
        "rmse_3b = math.sqrt(mean_squared_error(predicted_3b, target_valid_3b))\n",
        "mae_3b = mean_absolute_error(predicted_3b, target_valid_3b)\n",
        "\n",
        "print('mae_3b :', mae_3b)\n",
        "print('rmse_3b :', rmse_3b)"
      ]
    },
    {
      "cell_type": "markdown",
      "metadata": {
        "id": "HQyPk4A9dwDG"
      },
      "source": [
        "Model 4: CatBoost Regressor"
      ]
    },
    {
      "cell_type": "code",
      "execution_count": null,
      "metadata": {
        "id": "2UFZ1ShUgUz0"
      },
      "outputs": [],
      "source": [
        "# defining feature, target, validation variables for model\n",
        "features_train_4 = x_train\n",
        "features_valid_4 = x_valid\n",
        "features_test_4 = x_test\n",
        "\n",
        "target_train_4 = y_train\n",
        "target_valid_4 = y_valid\n",
        "target_test_4 = y_test"
      ]
    },
    {
      "cell_type": "code",
      "execution_count": null,
      "metadata": {
        "id": "vdmxktLxdzhB"
      },
      "outputs": [],
      "source": [
        "model_4 = catboost.CatBoostRegressor(random_state=1995, loss_function='RMSE')\n",
        "params_4 = {\n",
        "    'depth': list(range(3,11,2)),\n",
        "    'learning_rate': [0.003,0.01],\n",
        "    'iterations': [\n",
        "         #500,\n",
        "         700,\n",
        "         #1000,\n",
        "         #1500,\n",
        "        #2000\n",
        "        ]\n",
        "}"
      ]
    },
    {
      "cell_type": "code",
      "execution_count": null,
      "metadata": {
        "id": "EFwC-kuEgt9n"
      },
      "outputs": [],
      "source": [
        "rscv_4 = RandomizedSearchCV(estimator=model_4, param_distributions = params_4, cv=3, verbose=2, scoring = 'neg_root_mean_squared_error')\n",
        "rscv_4.fit(features_train_4, target_train_4)"
      ]
    },
    {
      "cell_type": "code",
      "execution_count": null,
      "metadata": {
        "colab": {
          "base_uri": "https://localhost:8080/"
        },
        "id": "calq_aR9g3m3",
        "outputId": "4d98d664-e9ad-40e0-b4cd-0232471185d4"
      },
      "outputs": [],
      "source": [
        "rscv_4.best_params_"
      ]
    },
    {
      "cell_type": "code",
      "execution_count": null,
      "metadata": {
        "id": "c2Wh65gFtvpc"
      },
      "outputs": [],
      "source": [
        "model_4v = catboost.CatBoostRegressor(learning_rate = rscv_4.best_params_['learning_rate'],\n",
        "                               iterations = rscv_4.best_params_['iterations'],\n",
        "                               depth= rscv_4.best_params_['depth'])\n",
        "\n",
        "model_4v.fit(features_train_4, target_train_4)\n",
        "predicted_4 = model_4v.predict(features_valid_4)\n",
        "rmse_4 = math.sqrt(mean_squared_error(predicted_4, target_valid_4))\n",
        "mae_4 = mean_absolute_error(predicted_4, target_valid_4)\n",
        "\n"
      ]
    },
    {
      "cell_type": "code",
      "execution_count": null,
      "metadata": {
        "colab": {
          "base_uri": "https://localhost:8080/"
        },
        "id": "Xg5MK9osD2qN",
        "outputId": "b3baa1e8-d9dd-44a7-98fa-ade33a9c15fc"
      },
      "outputs": [],
      "source": [
        "print('mae_4 :', mae_4)\n",
        "print('rmse_4 :', rmse_4)"
      ]
    },
    {
      "cell_type": "markdown",
      "metadata": {
        "id": "qYr-i6q2EYyE"
      },
      "source": [
        "Model 4b: CatboostRegressor, Normalized Data"
      ]
    },
    {
      "cell_type": "code",
      "execution_count": null,
      "metadata": {
        "id": "WY1ujNrlElc4"
      },
      "outputs": [],
      "source": [
        "# defining training, validation, and testing varaibles\n",
        "\n",
        "features_train_4b = scaler_0b.transform(features_train_0)\n",
        "features_valid_4b = scaler_0b.transform(features_valid_0)\n",
        "features_test_4b = scaler_0b.transform(features_test_0)\n",
        "\n",
        "target_train_4b = target_train_0\n",
        "target_valid_4b = target_valid_0\n",
        "target_test_4b = target_test_0"
      ]
    },
    {
      "cell_type": "code",
      "execution_count": null,
      "metadata": {
        "id": "At2LBB_REo2l"
      },
      "outputs": [],
      "source": [
        "model_4b = catboost.CatBoostRegressor(random_state=1995, loss_function='RMSE')\n",
        "params_4b = {\n",
        "    'depth': list(range(3,11,2)),\n",
        "    'learning_rate': list(np.arange(0.001, 1, 0.01)),\n",
        "    'iterations': [\n",
        "         #500,\n",
        "         700,\n",
        "         #1000,\n",
        "         #1500,\n",
        "        #2000\n",
        "        ]\n",
        "}"
      ]
    },
    {
      "cell_type": "code",
      "execution_count": null,
      "metadata": {
        "id": "nqL2WnqVE6Xd"
      },
      "outputs": [],
      "source": [
        "rscv_4b = RandomizedSearchCV(estimator=model_4b, param_distributions = params_4b, cv=3, verbose=2, scoring = 'neg_root_mean_squared_error')\n",
        "rscv_4b.fit(features_train_4b, target_train_4b)"
      ]
    },
    {
      "cell_type": "code",
      "execution_count": null,
      "metadata": {
        "colab": {
          "base_uri": "https://localhost:8080/"
        },
        "id": "h7glkjebFInJ",
        "outputId": "7933cc45-47ff-491d-9ecb-20ab7022023f"
      },
      "outputs": [],
      "source": [
        "rscv_4b.best_params_"
      ]
    },
    {
      "cell_type": "code",
      "execution_count": null,
      "metadata": {
        "id": "GcMI5G4KFNfe"
      },
      "outputs": [],
      "source": [
        "model_4vb = catboost.CatBoostRegressor(learning_rate = rscv_4b.best_params_['learning_rate'],\n",
        "                               iterations = rscv_4b.best_params_['iterations'],\n",
        "                               depth= rscv_4b.best_params_['depth'])\n",
        "\n",
        "model_4vb.fit(features_train_4b, target_train_4b)\n",
        "predicted_4b = model_4vb.predict(features_valid_4b)\n",
        "rmse_4b = math.sqrt(mean_squared_error(predicted_4b, target_valid_4b))\n",
        "mae_4b = mean_absolute_error(predicted_4b, target_valid_4b)\n",
        "\n"
      ]
    },
    {
      "cell_type": "markdown",
      "metadata": {
        "id": "rEtEQfLZERxl"
      },
      "source": [
        "### Performance Results and Selection of best Model"
      ]
    },
    {
      "cell_type": "code",
      "execution_count": null,
      "metadata": {
        "colab": {
          "base_uri": "https://localhost:8080/",
          "height": 600
        },
        "id": "yWxCy9AyEQq0",
        "outputId": "f40b567d-9ead-42fa-ff92-8131a56b42b1"
      },
      "outputs": [
        {
          "data": {
            "text/html": [
              "\n",
              "  <div id=\"df-b3ff6578-a495-417c-b750-564a94d040e0\">\n",
              "    <div class=\"colab-df-container\">\n",
              "      <div>\n",
              "<style scoped>\n",
              "    .dataframe tbody tr th:only-of-type {\n",
              "        vertical-align: middle;\n",
              "    }\n",
              "\n",
              "    .dataframe tbody tr th {\n",
              "        vertical-align: top;\n",
              "    }\n",
              "\n",
              "    .dataframe thead th {\n",
              "        text-align: right;\n",
              "    }\n",
              "</style>\n",
              "<table border=\"1\" class=\"dataframe\">\n",
              "  <thead>\n",
              "    <tr style=\"text-align: right;\">\n",
              "      <th></th>\n",
              "      <th>model_description</th>\n",
              "      <th>model</th>\n",
              "      <th>rmse</th>\n",
              "      <th>mae</th>\n",
              "    </tr>\n",
              "  </thead>\n",
              "  <tbody>\n",
              "    <tr>\n",
              "      <th>8</th>\n",
              "      <td>catboost regressor</td>\n",
              "      <td>&lt;catboost.core.CatBoostRegressor object at 0x7...</td>\n",
              "      <td>0.083495</td>\n",
              "      <td>0.068551</td>\n",
              "    </tr>\n",
              "    <tr>\n",
              "      <th>9</th>\n",
              "      <td>catboost regressor, normalized features</td>\n",
              "      <td>&lt;catboost.core.CatBoostRegressor object at 0x7...</td>\n",
              "      <td>0.083874</td>\n",
              "      <td>0.067704</td>\n",
              "    </tr>\n",
              "    <tr>\n",
              "      <th>0</th>\n",
              "      <td>linear regression</td>\n",
              "      <td>LinearRegression()</td>\n",
              "      <td>0.087565</td>\n",
              "      <td>0.070914</td>\n",
              "    </tr>\n",
              "    <tr>\n",
              "      <th>1</th>\n",
              "      <td>linear regression, normalized features</td>\n",
              "      <td>LinearRegression()</td>\n",
              "      <td>0.087565</td>\n",
              "      <td>0.070914</td>\n",
              "    </tr>\n",
              "    <tr>\n",
              "      <th>2</th>\n",
              "      <td>XGBoost regressor</td>\n",
              "      <td>XGBRegressor(seed=12345)</td>\n",
              "      <td>0.088296</td>\n",
              "      <td>0.07207</td>\n",
              "    </tr>\n",
              "    <tr>\n",
              "      <th>3</th>\n",
              "      <td>XGBoost regressor, normalized features</td>\n",
              "      <td>XGBRegressor(seed=12345)</td>\n",
              "      <td>0.089524</td>\n",
              "      <td>0.07306</td>\n",
              "    </tr>\n",
              "    <tr>\n",
              "      <th>7</th>\n",
              "      <td>k-nearest neighbors regressor, normalized feat...</td>\n",
              "      <td>KNeighborsRegressor()</td>\n",
              "      <td>0.091061</td>\n",
              "      <td>0.072954</td>\n",
              "    </tr>\n",
              "    <tr>\n",
              "      <th>6</th>\n",
              "      <td>k-nearest neighbors regressor</td>\n",
              "      <td>KNeighborsRegressor()</td>\n",
              "      <td>0.107722</td>\n",
              "      <td>0.089935</td>\n",
              "    </tr>\n",
              "    <tr>\n",
              "      <th>4</th>\n",
              "      <td>support vector regressor</td>\n",
              "      <td>SVR()</td>\n",
              "      <td>0.122508</td>\n",
              "      <td>0.10229</td>\n",
              "    </tr>\n",
              "    <tr>\n",
              "      <th>5</th>\n",
              "      <td>support vector regressor, normalized features</td>\n",
              "      <td>SVR()</td>\n",
              "      <td>0.122508</td>\n",
              "      <td>0.10229</td>\n",
              "    </tr>\n",
              "  </tbody>\n",
              "</table>\n",
              "</div>\n",
              "      <button class=\"colab-df-convert\" onclick=\"convertToInteractive('df-b3ff6578-a495-417c-b750-564a94d040e0')\"\n",
              "              title=\"Convert this dataframe to an interactive table.\"\n",
              "              style=\"display:none;\">\n",
              "        \n",
              "  <svg xmlns=\"http://www.w3.org/2000/svg\" height=\"24px\"viewBox=\"0 0 24 24\"\n",
              "       width=\"24px\">\n",
              "    <path d=\"M0 0h24v24H0V0z\" fill=\"none\"/>\n",
              "    <path d=\"M18.56 5.44l.94 2.06.94-2.06 2.06-.94-2.06-.94-.94-2.06-.94 2.06-2.06.94zm-11 1L8.5 8.5l.94-2.06 2.06-.94-2.06-.94L8.5 2.5l-.94 2.06-2.06.94zm10 10l.94 2.06.94-2.06 2.06-.94-2.06-.94-.94-2.06-.94 2.06-2.06.94z\"/><path d=\"M17.41 7.96l-1.37-1.37c-.4-.4-.92-.59-1.43-.59-.52 0-1.04.2-1.43.59L10.3 9.45l-7.72 7.72c-.78.78-.78 2.05 0 2.83L4 21.41c.39.39.9.59 1.41.59.51 0 1.02-.2 1.41-.59l7.78-7.78 2.81-2.81c.8-.78.8-2.07 0-2.86zM5.41 20L4 18.59l7.72-7.72 1.47 1.35L5.41 20z\"/>\n",
              "  </svg>\n",
              "      </button>\n",
              "      \n",
              "  <style>\n",
              "    .colab-df-container {\n",
              "      display:flex;\n",
              "      flex-wrap:wrap;\n",
              "      gap: 12px;\n",
              "    }\n",
              "\n",
              "    .colab-df-convert {\n",
              "      background-color: #E8F0FE;\n",
              "      border: none;\n",
              "      border-radius: 50%;\n",
              "      cursor: pointer;\n",
              "      display: none;\n",
              "      fill: #1967D2;\n",
              "      height: 32px;\n",
              "      padding: 0 0 0 0;\n",
              "      width: 32px;\n",
              "    }\n",
              "\n",
              "    .colab-df-convert:hover {\n",
              "      background-color: #E2EBFA;\n",
              "      box-shadow: 0px 1px 2px rgba(60, 64, 67, 0.3), 0px 1px 3px 1px rgba(60, 64, 67, 0.15);\n",
              "      fill: #174EA6;\n",
              "    }\n",
              "\n",
              "    [theme=dark] .colab-df-convert {\n",
              "      background-color: #3B4455;\n",
              "      fill: #D2E3FC;\n",
              "    }\n",
              "\n",
              "    [theme=dark] .colab-df-convert:hover {\n",
              "      background-color: #434B5C;\n",
              "      box-shadow: 0px 1px 3px 1px rgba(0, 0, 0, 0.15);\n",
              "      filter: drop-shadow(0px 1px 2px rgba(0, 0, 0, 0.3));\n",
              "      fill: #FFFFFF;\n",
              "    }\n",
              "  </style>\n",
              "\n",
              "      <script>\n",
              "        const buttonEl =\n",
              "          document.querySelector('#df-b3ff6578-a495-417c-b750-564a94d040e0 button.colab-df-convert');\n",
              "        buttonEl.style.display =\n",
              "          google.colab.kernel.accessAllowed ? 'block' : 'none';\n",
              "\n",
              "        async function convertToInteractive(key) {\n",
              "          const element = document.querySelector('#df-b3ff6578-a495-417c-b750-564a94d040e0');\n",
              "          const dataTable =\n",
              "            await google.colab.kernel.invokeFunction('convertToInteractive',\n",
              "                                                     [key], {});\n",
              "          if (!dataTable) return;\n",
              "\n",
              "          const docLinkHtml = 'Like what you see? Visit the ' +\n",
              "            '<a target=\"_blank\" href=https://colab.research.google.com/notebooks/data_table.ipynb>data table notebook</a>'\n",
              "            + ' to learn more about interactive tables.';\n",
              "          element.innerHTML = '';\n",
              "          dataTable['output_type'] = 'display_data';\n",
              "          await google.colab.output.renderOutput(dataTable, element);\n",
              "          const docLink = document.createElement('div');\n",
              "          docLink.innerHTML = docLinkHtml;\n",
              "          element.appendChild(docLink);\n",
              "        }\n",
              "      </script>\n",
              "    </div>\n",
              "  </div>\n",
              "  "
            ],
            "text/plain": [
              "                                   model_description  \\\n",
              "8                                 catboost regressor   \n",
              "9            catboost regressor, normalized features   \n",
              "0                                  linear regression   \n",
              "1             linear regression, normalized features   \n",
              "2                                  XGBoost regressor   \n",
              "3             XGBoost regressor, normalized features   \n",
              "7  k-nearest neighbors regressor, normalized feat...   \n",
              "6                      k-nearest neighbors regressor   \n",
              "4                           support vector regressor   \n",
              "5      support vector regressor, normalized features   \n",
              "\n",
              "                                               model      rmse       mae  \n",
              "8  <catboost.core.CatBoostRegressor object at 0x7...  0.083495  0.068551  \n",
              "9  <catboost.core.CatBoostRegressor object at 0x7...  0.083874  0.067704  \n",
              "0                                 LinearRegression()  0.087565  0.070914  \n",
              "1                                 LinearRegression()  0.087565  0.070914  \n",
              "2                           XGBRegressor(seed=12345)  0.088296   0.07207  \n",
              "3                           XGBRegressor(seed=12345)  0.089524   0.07306  \n",
              "7                              KNeighborsRegressor()  0.091061  0.072954  \n",
              "6                              KNeighborsRegressor()  0.107722  0.089935  \n",
              "4                                              SVR()  0.122508   0.10229  \n",
              "5                                              SVR()  0.122508   0.10229  "
            ]
          },
          "execution_count": 54,
          "metadata": {},
          "output_type": "execute_result"
        }
      ],
      "source": [
        "# printing results with validation data to select best model for testing\n",
        "\n",
        "val_results = { 'model_description' : ['linear regression', 'linear regression, normalized features',\n",
        "                                       'XGBoost regressor', ' XGBoost regressor, normalized features',\n",
        "                                       'support vector regressor', 'support vector regressor, normalized features',\n",
        "                                       'k-nearest neighbors regressor', 'k-nearest neighbors regressor, normalized features',\n",
        "                                       'catboost regressor', 'catboost regressor, normalized features'],\n",
        "\n",
        "              'model': [model_0, model_0b, model_1, model_1b, model_2, model_2b, model_3, model_3b, model_4, model_4b],\n",
        "\n",
        "               'rmse' : [rmse_0, rmse_0b, rmse_1, rmse_1b, rmse_2, rmse_2b,\n",
        "                         rmse_3, rmse_3b, rmse_4, rmse_4b],\n",
        "\n",
        "               'mae'  : [mae_0, mae_0b, mae_1, mae_1b, mae_2, mae_2b,\n",
        "                         mae_3, mae_3b, mae_4, mae_4b]}\n",
        "\n",
        "v_results = pd.DataFrame.from_dict(val_results,orient='index').transpose()\n",
        "v_results.sort_values('rmse', ascending=True)"
      ]
    },
    {
      "cell_type": "code",
      "execution_count": null,
      "metadata": {
        "id": "-_F6WwF1U_oU"
      },
      "outputs": [],
      "source": [
        "deam = pd.read_csv('/content/drive/MyDrive/data_project_cuetessa/deam.csv', index_col = 'Unnamed: 0')\n",
        "\n",
        "lim_up = deam.iloc[[i for i in y_test.index.values]]['valence_mean'] + 0.5*deam.iloc[[i for i in y_test.index.values]]['valence_std']\n",
        "lim_down = deam.iloc[[i for i in y_test.index.values]]['valence_mean'] - 0.5*deam.iloc[[i for i in y_test.index.values]]['valence_std']"
      ]
    },
    {
      "cell_type": "code",
      "execution_count": null,
      "metadata": {
        "id": "BKchD18dVZrf"
      },
      "outputs": [],
      "source": [
        "def plot_ordered(data, keys=None, figsize=(12,12)):\n",
        "    if keys is None:\n",
        "        keys = ['data '+str(i) for i in range(len(data))]\n",
        "\n",
        "    sorted = pd.DataFrame({keys[i]: data[i] for i in range(len(data))}).sort_values(keys[-1], ascending=True).reset_index(drop=True)\n",
        "    plt.figure(figsize=figsize)\n",
        "    for i in keys:\n",
        "        plt.plot(sorted[i])"
      ]
    },
    {
      "cell_type": "markdown",
      "metadata": {
        "id": "8ZXFkkafJiEG"
      },
      "source": [
        "Prediction made by our final model:"
      ]
    },
    {
      "cell_type": "code",
      "execution_count": null,
      "metadata": {
        "id": "QIfLaMZSVeNI"
      },
      "outputs": [],
      "source": [
        "predicted_test = pd.read_csv('/content/drive/MyDrive/data_project_cuetessa/predicted_test.csv', index_col = 'Unnamed: 0')"
      ]
    },
    {
      "cell_type": "code",
      "execution_count": null,
      "metadata": {
        "id": "nX_KZmxXXm3h"
      },
      "outputs": [],
      "source": [
        "predicted_test.index = y_test.index"
      ]
    },
    {
      "cell_type": "code",
      "execution_count": null,
      "metadata": {
        "id": "LgWp7DrGVbks"
      },
      "outputs": [],
      "source": [
        "def plot_ordered(data, keys=None, figsize=(12,8)):\n",
        "    if keys is None:\n",
        "        keys = ['data '+str(i) for i in range(len(data))]\n",
        "\n",
        "    sorted = pd.DataFrame({keys[i]: data[i] for i in range(len(data))}).sort_values(keys[-1], ascending=True).reset_index(drop=True)\n",
        "    plt.figure(figsize=figsize)\n",
        "    for i in keys:\n",
        "        plt.plot(sorted[i])"
      ]
    },
    {
      "cell_type": "code",
      "execution_count": null,
      "metadata": {
        "colab": {
          "base_uri": "https://localhost:8080/"
        },
        "id": "CPn66O6oZ1PG",
        "outputId": "688f5d9d-eca5-460f-a5a4-2ca33250e004"
      },
      "outputs": [],
      "source": [
        "predicted_test['0']"
      ]
    },
    {
      "cell_type": "code",
      "execution_count": null,
      "metadata": {
        "colab": {
          "base_uri": "https://localhost:8080/",
          "height": 483
        },
        "id": "_xcY_lumZ5fr",
        "outputId": "75415b2f-df22-4bfd-9a20-eda135ada402"
      },
      "outputs": [
        {
          "data": {
            "text/plain": [
              "<matplotlib.legend.Legend at 0x7fee6d2e1640>"
            ]
          },
          "execution_count": 62,
          "metadata": {},
          "output_type": "execute_result"
        },
        {
          "data": {
            "image/png": "[encoded data removed]",
            "text/plain": [
              "<Figure size 864x576 with 1 Axes>"
            ]
          },
          "metadata": {
            "needs_background": "light"
          },
          "output_type": "display_data"
        }
      ],
      "source": [
        "plot_ordered( [\n",
        "    lim_up,\n",
        "    lim_down,\n",
        "     predicted_test['0']*10,\n",
        "     y_test['valence_mean']*10] )\n",
        "\n",
        "plt.legend(['mean + 0.5 std', 'mean - 0.5 std', 'predicted', 'target'])"
      ]
    },
    {
      "cell_type": "markdown",
      "metadata": {},
      "source": [
        "Although the final predicted result of valence is not satisfactory when compared against the target, it is important to further consider the circumstances of this test. In fact, the audio files for the annotated dataset were not readily available, and spotify data was considered instead. Unfortunately, since the spotify data does not have a reported method of defining valence values, it is possible that they were using a model to assign valence values to their songs.\n",
        "\n",
        "Unfortunately, considering the flat distribution of valence values of spotify when compared with the annotated dataset, this suggests that our training data is not reliable as a source of information. I.E. if the training dataset has random values assigned to each song, then the model is more likely to behave randomly.\n",
        "\n",
        "Therefore, the main findings in this project are:\n",
        "\n",
        "- Spotify data was not a reliable source of information for valence reference.\n",
        "- Human annotated datasets are extremely important for audio related emotion trainig.\n",
        "- Valence values tend to behave as a normal distribution."
      ]
    },
    {
      "cell_type": "markdown",
      "metadata": {},
      "source": []
    },
    {
      "cell_type": "markdown",
      "metadata": {},
      "source": []
    }
  ],
  "metadata": {
    "colab": {
      "provenance": []
    },
    "kernelspec": {
      "display_name": "Python 3",
      "name": "python3"
    },
    "language_info": {
      "name": "python"
    }
  },
  "nbformat": 4,
  "nbformat_minor": 0
}
