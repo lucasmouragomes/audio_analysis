{
  "cells": [
    {
      "cell_type": "code",
      "execution_count": null,
      "metadata": {
        "colab": {
          "base_uri": "https://localhost:8080/"
        },
        "id": "I-CCH094GMmC",
        "outputId": "40d81533-a801-4abb-8328-4b348963c6d0"
      },
      "outputs": [],
      "source": [
        "from google.colab import drive\n",
        "\n",
        "drive.mount('/content/gdrive/', force_remount=True)"
      ]
    },
    {
      "cell_type": "code",
      "execution_count": null,
      "metadata": {
        "colab": {
          "base_uri": "https://localhost:8080/"
        },
        "id": "2AM3Dc9zHq-O",
        "outputId": "4a091411-dd56-4e46-c40a-da8d37d23943"
      },
      "outputs": [],
      "source": [
        "1# Import spotify API package\n",
        "!pip install spotipy\n",
        "!pip install urllib3\n",
        "\n",
        "import spotipy\n",
        "import spotipy.util as util\n",
        "from spotipy.oauth2 import SpotifyClientCredentials\n",
        "from spotipy.oauth2 import SpotifyOAuth\n",
        "\n",
        "# Import additional dataset (has not been used)\n",
        "# !pip install opendatasets\n",
        "\n",
        "# import opendatasets as od\n",
        "\n",
        "# Import python stuff\n",
        "import requests\n",
        "import shutil\n",
        "import numpy as np\n",
        "import pandas as pd\n",
        "import os\n",
        "import os.path as path\n",
        "from IPython.display import display, Audio\n",
        "import matplotlib.pyplot as plt\n",
        "import warnings\n",
        "import joblib\n",
        "import yaml\n",
        "from tqdm import tqdm\n",
        "\n",
        "# Import models\n",
        "!pip install catboost\n",
        "\n",
        "import catboost\n",
        "\n",
        "#import sklearn\n",
        "import sklearn as skl\n",
        "\n",
        "# Import Keras\n",
        "from tensorflow import keras\n",
        "from keras import layers\n",
        "from keras import models\n",
        "\n",
        "# Import librosa\n",
        "!pip install ffmpeg-python\n",
        "\n",
        "import librosa\n",
        "import librosa.display"
      ]
    },
    {
      "cell_type": "code",
      "execution_count": null,
      "metadata": {
        "id": "ExT8Qh2XTVwT"
      },
      "outputs": [],
      "source": [
        "# if not path.isfile('./gdrive/MyDrive/Cuetessa/top-tracks-of-2017/featuresdf.csv'):\n",
        "#   od.download('https://www.kaggle.com/datasets/nadintamer/top-tracks-of-2017', data_dir='./gdrive/MyDrive/Cuetessa', force=True)\n",
        "# top100_2017 = pd.read_csv('./gdrive/MyDrive/Cuetessa/top-tracks-of-2017/featuresdf.csv')\n",
        "\n",
        "with open('/content/gdrive/MyDrive/spotify/spotify.yaml', 'r') as f:\n",
        "  yaml_file = yaml.load(f, Loader=yaml.loader.SafeLoader)\n",
        "\n",
        "cid = yaml_file['client_id']\n",
        "secret = yaml_file['client_secret']\n",
        "redirect = 'https://example.com'\n",
        "\n",
        "scope = \"playlist-modify-public\"\n",
        "\n",
        "sp = spotipy.Spotify(\n",
        "        auth_manager=spotipy.SpotifyOAuth(\n",
        "          client_id=cid,\n",
        "          client_secret=secret,\n",
        "          redirect_uri=redirect,\n",
        "          scope=scope, open_browser=False)\n",
        "        )\n",
        "\n"
      ]
    },
    {
      "cell_type": "code",
      "execution_count": null,
      "metadata": {
        "colab": {
          "base_uri": "https://localhost:8080/"
        },
        "id": "SKWqOL8DE7Uh",
        "outputId": "55ec7dd5-a609-4cf3-b4b7-f0066f32efc8"
      },
      "outputs": [],
      "source": [
        "result = sp.playlist_tracks('6a66cg3HcsjYkisYyQcov6', market='US')"
      ]
    },
    {
      "cell_type": "code",
      "execution_count": null,
      "metadata": {
        "colab": {
          "base_uri": "https://localhost:8080/",
          "height": 337
        },
        "id": "Ppns2wB0Uw--",
        "outputId": "3d27799b-91f3-413f-ef18-05620ec3cee0"
      },
      "outputs": [
        {
          "data": {
            "text/html": [
              "\n",
              "  <div id=\"df-24d6bec7-7624-4217-9055-9a78e5ad2f0b\">\n",
              "    <div class=\"colab-df-container\">\n",
              "      <div>\n",
              "<style scoped>\n",
              "    .dataframe tbody tr th:only-of-type {\n",
              "        vertical-align: middle;\n",
              "    }\n",
              "\n",
              "    .dataframe tbody tr th {\n",
              "        vertical-align: top;\n",
              "    }\n",
              "\n",
              "    .dataframe thead th {\n",
              "        text-align: right;\n",
              "    }\n",
              "</style>\n",
              "<table border=\"1\" class=\"dataframe\">\n",
              "  <thead>\n",
              "    <tr style=\"text-align: right;\">\n",
              "      <th></th>\n",
              "      <th>id</th>\n",
              "      <th>name</th>\n",
              "      <th>explicit</th>\n",
              "      <th>uri</th>\n",
              "      <th>preview_url</th>\n",
              "      <th>artists</th>\n",
              "    </tr>\n",
              "  </thead>\n",
              "  <tbody>\n",
              "    <tr>\n",
              "      <th>0</th>\n",
              "      <td>0pqnGHJpmpxLKifKRmU6WP</td>\n",
              "      <td>Believer</td>\n",
              "      <td>False</td>\n",
              "      <td>spotify:track:0pqnGHJpmpxLKifKRmU6WP</td>\n",
              "      <td>https://p.scdn.co/mp3-preview/4b5e66e725d303b0...</td>\n",
              "      <td>Imagine Dragons</td>\n",
              "    </tr>\n",
              "    <tr>\n",
              "      <th>1</th>\n",
              "      <td>2YpeDb67231RjR0MgVLzsG</td>\n",
              "      <td>Old Town Road - Remix</td>\n",
              "      <td>False</td>\n",
              "      <td>spotify:track:2YpeDb67231RjR0MgVLzsG</td>\n",
              "      <td>https://p.scdn.co/mp3-preview/b1b4f28e5b4fc679...</td>\n",
              "      <td>Lil Nas X \\ Billy Ray Cyrus</td>\n",
              "    </tr>\n",
              "    <tr>\n",
              "      <th>2</th>\n",
              "      <td>6b2RcmUt1g9N9mQ3CbjX2Y</td>\n",
              "      <td>How Do You Sleep?</td>\n",
              "      <td>False</td>\n",
              "      <td>spotify:track:6b2RcmUt1g9N9mQ3CbjX2Y</td>\n",
              "      <td>https://p.scdn.co/mp3-preview/15190e5791386e4d...</td>\n",
              "      <td>Sam Smith</td>\n",
              "    </tr>\n",
              "    <tr>\n",
              "      <th>3</th>\n",
              "      <td>7qEHsqek33rTcFNT9PFqLf</td>\n",
              "      <td>Someone You Loved</td>\n",
              "      <td>False</td>\n",
              "      <td>spotify:track:7qEHsqek33rTcFNT9PFqLf</td>\n",
              "      <td>https://p.scdn.co/mp3-preview/ae0a42ca5dca210c...</td>\n",
              "      <td>Lewis Capaldi</td>\n",
              "    </tr>\n",
              "    <tr>\n",
              "      <th>4</th>\n",
              "      <td>3LlAyCYU26dvFZBDUIMb7a</td>\n",
              "      <td>Demons</td>\n",
              "      <td>False</td>\n",
              "      <td>spotify:track:3LlAyCYU26dvFZBDUIMb7a</td>\n",
              "      <td>https://p.scdn.co/mp3-preview/ff439dff9263b67a...</td>\n",
              "      <td>Imagine Dragons</td>\n",
              "    </tr>\n",
              "  </tbody>\n",
              "</table>\n",
              "</div>\n",
              "      <button class=\"colab-df-convert\" onclick=\"convertToInteractive('df-24d6bec7-7624-4217-9055-9a78e5ad2f0b')\"\n",
              "              title=\"Convert this dataframe to an interactive table.\"\n",
              "              style=\"display:none;\">\n",
              "        \n",
              "  <svg xmlns=\"http://www.w3.org/2000/svg\" height=\"24px\"viewBox=\"0 0 24 24\"\n",
              "       width=\"24px\">\n",
              "    <path d=\"M0 0h24v24H0V0z\" fill=\"none\"/>\n",
              "    <path d=\"M18.56 5.44l.94 2.06.94-2.06 2.06-.94-2.06-.94-.94-2.06-.94 2.06-2.06.94zm-11 1L8.5 8.5l.94-2.06 2.06-.94-2.06-.94L8.5 2.5l-.94 2.06-2.06.94zm10 10l.94 2.06.94-2.06 2.06-.94-2.06-.94-.94-2.06-.94 2.06-2.06.94z\"/><path d=\"M17.41 7.96l-1.37-1.37c-.4-.4-.92-.59-1.43-.59-.52 0-1.04.2-1.43.59L10.3 9.45l-7.72 7.72c-.78.78-.78 2.05 0 2.83L4 21.41c.39.39.9.59 1.41.59.51 0 1.02-.2 1.41-.59l7.78-7.78 2.81-2.81c.8-.78.8-2.07 0-2.86zM5.41 20L4 18.59l7.72-7.72 1.47 1.35L5.41 20z\"/>\n",
              "  </svg>\n",
              "      </button>\n",
              "      \n",
              "  <style>\n",
              "    .colab-df-container {\n",
              "      display:flex;\n",
              "      flex-wrap:wrap;\n",
              "      gap: 12px;\n",
              "    }\n",
              "\n",
              "    .colab-df-convert {\n",
              "      background-color: #E8F0FE;\n",
              "      border: none;\n",
              "      border-radius: 50%;\n",
              "      cursor: pointer;\n",
              "      display: none;\n",
              "      fill: #1967D2;\n",
              "      height: 32px;\n",
              "      padding: 0 0 0 0;\n",
              "      width: 32px;\n",
              "    }\n",
              "\n",
              "    .colab-df-convert:hover {\n",
              "      background-color: #E2EBFA;\n",
              "      box-shadow: 0px 1px 2px rgba(60, 64, 67, 0.3), 0px 1px 3px 1px rgba(60, 64, 67, 0.15);\n",
              "      fill: #174EA6;\n",
              "    }\n",
              "\n",
              "    [theme=dark] .colab-df-convert {\n",
              "      background-color: #3B4455;\n",
              "      fill: #D2E3FC;\n",
              "    }\n",
              "\n",
              "    [theme=dark] .colab-df-convert:hover {\n",
              "      background-color: #434B5C;\n",
              "      box-shadow: 0px 1px 3px 1px rgba(0, 0, 0, 0.15);\n",
              "      filter: drop-shadow(0px 1px 2px rgba(0, 0, 0, 0.3));\n",
              "      fill: #FFFFFF;\n",
              "    }\n",
              "  </style>\n",
              "\n",
              "      <script>\n",
              "        const buttonEl =\n",
              "          document.querySelector('#df-24d6bec7-7624-4217-9055-9a78e5ad2f0b button.colab-df-convert');\n",
              "        buttonEl.style.display =\n",
              "          google.colab.kernel.accessAllowed ? 'block' : 'none';\n",
              "\n",
              "        async function convertToInteractive(key) {\n",
              "          const element = document.querySelector('#df-24d6bec7-7624-4217-9055-9a78e5ad2f0b');\n",
              "          const dataTable =\n",
              "            await google.colab.kernel.invokeFunction('convertToInteractive',\n",
              "                                                     [key], {});\n",
              "          if (!dataTable) return;\n",
              "\n",
              "          const docLinkHtml = 'Like what you see? Visit the ' +\n",
              "            '<a target=\"_blank\" href=https://colab.research.google.com/notebooks/data_table.ipynb>data table notebook</a>'\n",
              "            + ' to learn more about interactive tables.';\n",
              "          element.innerHTML = '';\n",
              "          dataTable['output_type'] = 'display_data';\n",
              "          await google.colab.output.renderOutput(dataTable, element);\n",
              "          const docLink = document.createElement('div');\n",
              "          docLink.innerHTML = docLinkHtml;\n",
              "          element.appendChild(docLink);\n",
              "        }\n",
              "      </script>\n",
              "    </div>\n",
              "  </div>\n",
              "  "
            ],
            "text/plain": [
              "                       id                   name  explicit  \\\n",
              "0  0pqnGHJpmpxLKifKRmU6WP               Believer     False   \n",
              "1  2YpeDb67231RjR0MgVLzsG  Old Town Road - Remix     False   \n",
              "2  6b2RcmUt1g9N9mQ3CbjX2Y      How Do You Sleep?     False   \n",
              "3  7qEHsqek33rTcFNT9PFqLf      Someone You Loved     False   \n",
              "4  3LlAyCYU26dvFZBDUIMb7a                 Demons     False   \n",
              "\n",
              "                                    uri  \\\n",
              "0  spotify:track:0pqnGHJpmpxLKifKRmU6WP   \n",
              "1  spotify:track:2YpeDb67231RjR0MgVLzsG   \n",
              "2  spotify:track:6b2RcmUt1g9N9mQ3CbjX2Y   \n",
              "3  spotify:track:7qEHsqek33rTcFNT9PFqLf   \n",
              "4  spotify:track:3LlAyCYU26dvFZBDUIMb7a   \n",
              "\n",
              "                                         preview_url  \\\n",
              "0  https://p.scdn.co/mp3-preview/4b5e66e725d303b0...   \n",
              "1  https://p.scdn.co/mp3-preview/b1b4f28e5b4fc679...   \n",
              "2  https://p.scdn.co/mp3-preview/15190e5791386e4d...   \n",
              "3  https://p.scdn.co/mp3-preview/ae0a42ca5dca210c...   \n",
              "4  https://p.scdn.co/mp3-preview/ff439dff9263b67a...   \n",
              "\n",
              "                       artists  \n",
              "0              Imagine Dragons  \n",
              "1  Lil Nas X \\ Billy Ray Cyrus  \n",
              "2                    Sam Smith  \n",
              "3                Lewis Capaldi  \n",
              "4              Imagine Dragons  "
            ]
          },
          "execution_count": 6,
          "metadata": {},
          "output_type": "execute_result"
        }
      ],
      "source": [
        "def save_track_info(track):\n",
        "  infos = ['id', 'name', 'explicit', 'uri', 'preview_url']\n",
        "  result = {info: track['track'][info] for info in infos}\n",
        "  result['artists'] = [artist['name'] for artist in track['track']['artists'] ]\n",
        "  result['artists'] = ' \\\\ '.join(result['artists'])\n",
        "  return result\n",
        "\n",
        "tracks = [save_track_info(track) for track in result['items'] ]\n",
        "while result['next']:\n",
        "  result = sp.next(result)\n",
        "  tracks.extend([save_track_info(track) for track in result['items'] ])\n",
        "\n",
        "tracks = pd.DataFrame(tracks)\n",
        "tracks.head()"
      ]
    },
    {
      "cell_type": "code",
      "execution_count": null,
      "metadata": {
        "colab": {
          "base_uri": "https://localhost:8080/",
          "height": 426
        },
        "id": "c_6cOgMMWRIx",
        "outputId": "9d106ae7-e7f5-44c4-c6c7-875162da9ea6"
      },
      "outputs": [],
      "source": [
        "batchsize = 100\n",
        "audio_features = []\n",
        "\n",
        "for i in range(0, len(tracks.uri.values), batchsize):\n",
        "  batch = tracks.uri.values[i:i+batchsize]\n",
        "  audio_features.extend(sp.audio_features(tracks=batch))\n",
        "\n",
        "drop_cols = ['id', 'uri', 'track_href', 'analysis_url', 'type']\n",
        "spotify_top = tracks.join( pd.DataFrame(audio_features).drop(drop_cols, axis=1) )\n",
        "spotify_top.head()"
      ]
    },
    {
      "cell_type": "code",
      "execution_count": null,
      "metadata": {
        "colab": {
          "base_uri": "https://localhost:8080/",
          "height": 261
        },
        "id": "f4NV-uTnfIPk",
        "outputId": "32ba3e9c-8ffc-40b8-ea40-02162763a9b2"
      },
      "outputs": [],
      "source": [
        "print('Number of duplicated rows:', spotify_top[spotify_top.duplicated()].shape[0])\n",
        "display(spotify_top[spotify_top.duplicated()][['name', 'artists']].head())\n",
        "\n",
        "print('Dropping duplicated rows...')\n",
        "spotify_top = spotify_top[~spotify_top.duplicated()]\n",
        "print('New size of spotify_top:', spotify_top.shape[0])"
      ]
    },
    {
      "cell_type": "code",
      "execution_count": null,
      "metadata": {
        "colab": {
          "base_uri": "https://localhost:8080/"
        },
        "id": "ARxUOCOSWa3y",
        "outputId": "71f272c1-b3e6-4ccb-cee0-e26f6f3c2476"
      },
      "outputs": [],
      "source": [
        "def download_file(url, filename):\n",
        "    with requests.get(url, stream=True) as r:\n",
        "      with open(filename, 'wb') as f:\n",
        "        shutil.copyfileobj(r.raw, f)\n",
        "    return filename\n",
        "\n",
        "folder_name = 'mp3_samples'\n",
        "file_type = 'mp3'\n",
        "n_mels = 64\n",
        "\n",
        "if not path.exists('/content/' + folder_name) and not path.exists('/content/gdrive/MyDrive/Cuetessa/audio_data_' + str(n_mels) + '.joblib'):\n",
        "  print('Audio data not found! Downloading...')\n",
        "  if not path.exists('/content/' + folder_name):\n",
        "        print('Folder not found! Creating folder...')\n",
        "        os.makedirs('/content/' + folder_name)\n",
        "  for id, preview_url in zip(spotify_top.id.values, spotify_top.preview_url.values):\n",
        "      filename = '/content/' + folder_name + '/' + id + '.' + file_type\n",
        "      download_file(preview_url, filename=filename)\n",
        "  print('All files downloaded!')\n",
        "\n",
        "else:\n",
        "  print('Audio data has already been downloaded. Skipping preview downloads...')"
      ]
    },
    {
      "cell_type": "code",
      "execution_count": null,
      "metadata": {
        "id": "PJXqpYsZ1iDA"
      },
      "outputs": [],
      "source": [
        "df = spotify_top.reset_index(drop=True).copy()"
      ]
    },
    {
      "cell_type": "code",
      "execution_count": null,
      "metadata": {
        "colab": {
          "base_uri": "https://localhost:8080/",
          "height": 426
        },
        "id": "Ac65d88CJhCb",
        "outputId": "09848310-f4df-4577-f2a0-224ef3041175"
      },
      "outputs": [
        {
          "data": {
            "text/html": [
              "\n",
              "  <div id=\"df-43a73377-5052-47a8-bf41-4e2b1789d854\">\n",
              "    <div class=\"colab-df-container\">\n",
              "      <div>\n",
              "<style scoped>\n",
              "    .dataframe tbody tr th:only-of-type {\n",
              "        vertical-align: middle;\n",
              "    }\n",
              "\n",
              "    .dataframe tbody tr th {\n",
              "        vertical-align: top;\n",
              "    }\n",
              "\n",
              "    .dataframe thead th {\n",
              "        text-align: right;\n",
              "    }\n",
              "</style>\n",
              "<table border=\"1\" class=\"dataframe\">\n",
              "  <thead>\n",
              "    <tr style=\"text-align: right;\">\n",
              "      <th></th>\n",
              "      <th>id</th>\n",
              "      <th>name</th>\n",
              "      <th>explicit</th>\n",
              "      <th>uri</th>\n",
              "      <th>preview_url</th>\n",
              "      <th>artists</th>\n",
              "      <th>danceability</th>\n",
              "      <th>energy</th>\n",
              "      <th>key</th>\n",
              "      <th>loudness</th>\n",
              "      <th>mode</th>\n",
              "      <th>speechiness</th>\n",
              "      <th>acousticness</th>\n",
              "      <th>instrumentalness</th>\n",
              "      <th>liveness</th>\n",
              "      <th>valence</th>\n",
              "      <th>tempo</th>\n",
              "      <th>duration_ms</th>\n",
              "      <th>time_signature</th>\n",
              "      <th>filename</th>\n",
              "    </tr>\n",
              "  </thead>\n",
              "  <tbody>\n",
              "    <tr>\n",
              "      <th>0</th>\n",
              "      <td>0pqnGHJpmpxLKifKRmU6WP</td>\n",
              "      <td>Believer</td>\n",
              "      <td>False</td>\n",
              "      <td>spotify:track:0pqnGHJpmpxLKifKRmU6WP</td>\n",
              "      <td>https://p.scdn.co/mp3-preview/4b5e66e725d303b0...</td>\n",
              "      <td>Imagine Dragons</td>\n",
              "      <td>0.776</td>\n",
              "      <td>0.780</td>\n",
              "      <td>10</td>\n",
              "      <td>-4.374</td>\n",
              "      <td>0</td>\n",
              "      <td>0.1280</td>\n",
              "      <td>0.0622</td>\n",
              "      <td>0.00000</td>\n",
              "      <td>0.0810</td>\n",
              "      <td>0.666</td>\n",
              "      <td>124.949</td>\n",
              "      <td>204347</td>\n",
              "      <td>4</td>\n",
              "      <td>/content/mp3_samples/0pqnGHJpmpxLKifKRmU6WP.mp3</td>\n",
              "    </tr>\n",
              "    <tr>\n",
              "      <th>1</th>\n",
              "      <td>2YpeDb67231RjR0MgVLzsG</td>\n",
              "      <td>Old Town Road - Remix</td>\n",
              "      <td>False</td>\n",
              "      <td>spotify:track:2YpeDb67231RjR0MgVLzsG</td>\n",
              "      <td>https://p.scdn.co/mp3-preview/b1b4f28e5b4fc679...</td>\n",
              "      <td>Lil Nas X \\ Billy Ray Cyrus</td>\n",
              "      <td>0.878</td>\n",
              "      <td>0.619</td>\n",
              "      <td>6</td>\n",
              "      <td>-5.560</td>\n",
              "      <td>1</td>\n",
              "      <td>0.1020</td>\n",
              "      <td>0.0533</td>\n",
              "      <td>0.00000</td>\n",
              "      <td>0.1130</td>\n",
              "      <td>0.639</td>\n",
              "      <td>136.041</td>\n",
              "      <td>157067</td>\n",
              "      <td>4</td>\n",
              "      <td>/content/mp3_samples/2YpeDb67231RjR0MgVLzsG.mp3</td>\n",
              "    </tr>\n",
              "    <tr>\n",
              "      <th>2</th>\n",
              "      <td>6b2RcmUt1g9N9mQ3CbjX2Y</td>\n",
              "      <td>How Do You Sleep?</td>\n",
              "      <td>False</td>\n",
              "      <td>spotify:track:6b2RcmUt1g9N9mQ3CbjX2Y</td>\n",
              "      <td>https://p.scdn.co/mp3-preview/15190e5791386e4d...</td>\n",
              "      <td>Sam Smith</td>\n",
              "      <td>0.477</td>\n",
              "      <td>0.682</td>\n",
              "      <td>1</td>\n",
              "      <td>-4.931</td>\n",
              "      <td>0</td>\n",
              "      <td>0.0925</td>\n",
              "      <td>0.1530</td>\n",
              "      <td>0.00000</td>\n",
              "      <td>0.0763</td>\n",
              "      <td>0.345</td>\n",
              "      <td>110.567</td>\n",
              "      <td>202205</td>\n",
              "      <td>5</td>\n",
              "      <td>/content/mp3_samples/6b2RcmUt1g9N9mQ3CbjX2Y.mp3</td>\n",
              "    </tr>\n",
              "    <tr>\n",
              "      <th>3</th>\n",
              "      <td>7qEHsqek33rTcFNT9PFqLf</td>\n",
              "      <td>Someone You Loved</td>\n",
              "      <td>False</td>\n",
              "      <td>spotify:track:7qEHsqek33rTcFNT9PFqLf</td>\n",
              "      <td>https://p.scdn.co/mp3-preview/ae0a42ca5dca210c...</td>\n",
              "      <td>Lewis Capaldi</td>\n",
              "      <td>0.501</td>\n",
              "      <td>0.405</td>\n",
              "      <td>1</td>\n",
              "      <td>-5.679</td>\n",
              "      <td>1</td>\n",
              "      <td>0.0319</td>\n",
              "      <td>0.7510</td>\n",
              "      <td>0.00000</td>\n",
              "      <td>0.1050</td>\n",
              "      <td>0.446</td>\n",
              "      <td>109.891</td>\n",
              "      <td>182161</td>\n",
              "      <td>4</td>\n",
              "      <td>/content/mp3_samples/7qEHsqek33rTcFNT9PFqLf.mp3</td>\n",
              "    </tr>\n",
              "    <tr>\n",
              "      <th>4</th>\n",
              "      <td>3LlAyCYU26dvFZBDUIMb7a</td>\n",
              "      <td>Demons</td>\n",
              "      <td>False</td>\n",
              "      <td>spotify:track:3LlAyCYU26dvFZBDUIMb7a</td>\n",
              "      <td>https://p.scdn.co/mp3-preview/ff439dff9263b67a...</td>\n",
              "      <td>Imagine Dragons</td>\n",
              "      <td>0.505</td>\n",
              "      <td>0.710</td>\n",
              "      <td>3</td>\n",
              "      <td>-3.015</td>\n",
              "      <td>1</td>\n",
              "      <td>0.0321</td>\n",
              "      <td>0.1900</td>\n",
              "      <td>0.00025</td>\n",
              "      <td>0.3290</td>\n",
              "      <td>0.428</td>\n",
              "      <td>89.938</td>\n",
              "      <td>175200</td>\n",
              "      <td>4</td>\n",
              "      <td>/content/mp3_samples/3LlAyCYU26dvFZBDUIMb7a.mp3</td>\n",
              "    </tr>\n",
              "  </tbody>\n",
              "</table>\n",
              "</div>\n",
              "      <button class=\"colab-df-convert\" onclick=\"convertToInteractive('df-43a73377-5052-47a8-bf41-4e2b1789d854')\"\n",
              "              title=\"Convert this dataframe to an interactive table.\"\n",
              "              style=\"display:none;\">\n",
              "        \n",
              "  <svg xmlns=\"http://www.w3.org/2000/svg\" height=\"24px\"viewBox=\"0 0 24 24\"\n",
              "       width=\"24px\">\n",
              "    <path d=\"M0 0h24v24H0V0z\" fill=\"none\"/>\n",
              "    <path d=\"M18.56 5.44l.94 2.06.94-2.06 2.06-.94-2.06-.94-.94-2.06-.94 2.06-2.06.94zm-11 1L8.5 8.5l.94-2.06 2.06-.94-2.06-.94L8.5 2.5l-.94 2.06-2.06.94zm10 10l.94 2.06.94-2.06 2.06-.94-2.06-.94-.94-2.06-.94 2.06-2.06.94z\"/><path d=\"M17.41 7.96l-1.37-1.37c-.4-.4-.92-.59-1.43-.59-.52 0-1.04.2-1.43.59L10.3 9.45l-7.72 7.72c-.78.78-.78 2.05 0 2.83L4 21.41c.39.39.9.59 1.41.59.51 0 1.02-.2 1.41-.59l7.78-7.78 2.81-2.81c.8-.78.8-2.07 0-2.86zM5.41 20L4 18.59l7.72-7.72 1.47 1.35L5.41 20z\"/>\n",
              "  </svg>\n",
              "      </button>\n",
              "      \n",
              "  <style>\n",
              "    .colab-df-container {\n",
              "      display:flex;\n",
              "      flex-wrap:wrap;\n",
              "      gap: 12px;\n",
              "    }\n",
              "\n",
              "    .colab-df-convert {\n",
              "      background-color: #E8F0FE;\n",
              "      border: none;\n",
              "      border-radius: 50%;\n",
              "      cursor: pointer;\n",
              "      display: none;\n",
              "      fill: #1967D2;\n",
              "      height: 32px;\n",
              "      padding: 0 0 0 0;\n",
              "      width: 32px;\n",
              "    }\n",
              "\n",
              "    .colab-df-convert:hover {\n",
              "      background-color: #E2EBFA;\n",
              "      box-shadow: 0px 1px 2px rgba(60, 64, 67, 0.3), 0px 1px 3px 1px rgba(60, 64, 67, 0.15);\n",
              "      fill: #174EA6;\n",
              "    }\n",
              "\n",
              "    [theme=dark] .colab-df-convert {\n",
              "      background-color: #3B4455;\n",
              "      fill: #D2E3FC;\n",
              "    }\n",
              "\n",
              "    [theme=dark] .colab-df-convert:hover {\n",
              "      background-color: #434B5C;\n",
              "      box-shadow: 0px 1px 3px 1px rgba(0, 0, 0, 0.15);\n",
              "      filter: drop-shadow(0px 1px 2px rgba(0, 0, 0, 0.3));\n",
              "      fill: #FFFFFF;\n",
              "    }\n",
              "  </style>\n",
              "\n",
              "      <script>\n",
              "        const buttonEl =\n",
              "          document.querySelector('#df-43a73377-5052-47a8-bf41-4e2b1789d854 button.colab-df-convert');\n",
              "        buttonEl.style.display =\n",
              "          google.colab.kernel.accessAllowed ? 'block' : 'none';\n",
              "\n",
              "        async function convertToInteractive(key) {\n",
              "          const element = document.querySelector('#df-43a73377-5052-47a8-bf41-4e2b1789d854');\n",
              "          const dataTable =\n",
              "            await google.colab.kernel.invokeFunction('convertToInteractive',\n",
              "                                                     [key], {});\n",
              "          if (!dataTable) return;\n",
              "\n",
              "          const docLinkHtml = 'Like what you see? Visit the ' +\n",
              "            '<a target=\"_blank\" href=https://colab.research.google.com/notebooks/data_table.ipynb>data table notebook</a>'\n",
              "            + ' to learn more about interactive tables.';\n",
              "          element.innerHTML = '';\n",
              "          dataTable['output_type'] = 'display_data';\n",
              "          await google.colab.output.renderOutput(dataTable, element);\n",
              "          const docLink = document.createElement('div');\n",
              "          docLink.innerHTML = docLinkHtml;\n",
              "          element.appendChild(docLink);\n",
              "        }\n",
              "      </script>\n",
              "    </div>\n",
              "  </div>\n",
              "  "
            ],
            "text/plain": [
              "                       id                   name  explicit  \\\n",
              "0  0pqnGHJpmpxLKifKRmU6WP               Believer     False   \n",
              "1  2YpeDb67231RjR0MgVLzsG  Old Town Road - Remix     False   \n",
              "2  6b2RcmUt1g9N9mQ3CbjX2Y      How Do You Sleep?     False   \n",
              "3  7qEHsqek33rTcFNT9PFqLf      Someone You Loved     False   \n",
              "4  3LlAyCYU26dvFZBDUIMb7a                 Demons     False   \n",
              "\n",
              "                                    uri  \\\n",
              "0  spotify:track:0pqnGHJpmpxLKifKRmU6WP   \n",
              "1  spotify:track:2YpeDb67231RjR0MgVLzsG   \n",
              "2  spotify:track:6b2RcmUt1g9N9mQ3CbjX2Y   \n",
              "3  spotify:track:7qEHsqek33rTcFNT9PFqLf   \n",
              "4  spotify:track:3LlAyCYU26dvFZBDUIMb7a   \n",
              "\n",
              "                                         preview_url  \\\n",
              "0  https://p.scdn.co/mp3-preview/4b5e66e725d303b0...   \n",
              "1  https://p.scdn.co/mp3-preview/b1b4f28e5b4fc679...   \n",
              "2  https://p.scdn.co/mp3-preview/15190e5791386e4d...   \n",
              "3  https://p.scdn.co/mp3-preview/ae0a42ca5dca210c...   \n",
              "4  https://p.scdn.co/mp3-preview/ff439dff9263b67a...   \n",
              "\n",
              "                       artists  danceability  energy  key  loudness  mode  \\\n",
              "0              Imagine Dragons         0.776   0.780   10    -4.374     0   \n",
              "1  Lil Nas X \\ Billy Ray Cyrus         0.878   0.619    6    -5.560     1   \n",
              "2                    Sam Smith         0.477   0.682    1    -4.931     0   \n",
              "3                Lewis Capaldi         0.501   0.405    1    -5.679     1   \n",
              "4              Imagine Dragons         0.505   0.710    3    -3.015     1   \n",
              "\n",
              "   speechiness  acousticness  instrumentalness  liveness  valence    tempo  \\\n",
              "0       0.1280        0.0622           0.00000    0.0810    0.666  124.949   \n",
              "1       0.1020        0.0533           0.00000    0.1130    0.639  136.041   \n",
              "2       0.0925        0.1530           0.00000    0.0763    0.345  110.567   \n",
              "3       0.0319        0.7510           0.00000    0.1050    0.446  109.891   \n",
              "4       0.0321        0.1900           0.00025    0.3290    0.428   89.938   \n",
              "\n",
              "   duration_ms  time_signature  \\\n",
              "0       204347               4   \n",
              "1       157067               4   \n",
              "2       202205               5   \n",
              "3       182161               4   \n",
              "4       175200               4   \n",
              "\n",
              "                                          filename  \n",
              "0  /content/mp3_samples/0pqnGHJpmpxLKifKRmU6WP.mp3  \n",
              "1  /content/mp3_samples/2YpeDb67231RjR0MgVLzsG.mp3  \n",
              "2  /content/mp3_samples/6b2RcmUt1g9N9mQ3CbjX2Y.mp3  \n",
              "3  /content/mp3_samples/7qEHsqek33rTcFNT9PFqLf.mp3  \n",
              "4  /content/mp3_samples/3LlAyCYU26dvFZBDUIMb7a.mp3  "
            ]
          },
          "execution_count": 107,
          "metadata": {},
          "output_type": "execute_result"
        }
      ],
      "source": [
        "df.head()"
      ]
    },
    {
      "cell_type": "code",
      "execution_count": null,
      "metadata": {
        "colab": {
          "base_uri": "https://localhost:8080/"
        },
        "id": "k0440VzBczCx",
        "outputId": "c14154d3-7eeb-4fce-863d-80ae94139577"
      },
      "outputs": [
        {
          "name": "stdout",
          "output_type": "stream",
          "text": [
            "<class 'pandas.core.frame.DataFrame'>\n",
            "RangeIndex: 1631 entries, 0 to 1630\n",
            "Data columns (total 20 columns):\n",
            " #   Column            Non-Null Count  Dtype  \n",
            "---  ------            --------------  -----  \n",
            " 0   id                1631 non-null   object \n",
            " 1   name              1631 non-null   object \n",
            " 2   explicit          1631 non-null   bool   \n",
            " 3   uri               1631 non-null   object \n",
            " 4   preview_url       1631 non-null   object \n",
            " 5   artists           1631 non-null   object \n",
            " 6   danceability      1631 non-null   float64\n",
            " 7   energy            1631 non-null   float64\n",
            " 8   key               1631 non-null   int64  \n",
            " 9   loudness          1631 non-null   float64\n",
            " 10  mode              1631 non-null   int64  \n",
            " 11  speechiness       1631 non-null   float64\n",
            " 12  acousticness      1631 non-null   float64\n",
            " 13  instrumentalness  1631 non-null   float64\n",
            " 14  liveness          1631 non-null   float64\n",
            " 15  valence           1631 non-null   float64\n",
            " 16  tempo             1631 non-null   float64\n",
            " 17  duration_ms       1631 non-null   int64  \n",
            " 18  time_signature    1631 non-null   int64  \n",
            " 19  filename          1631 non-null   object \n",
            "dtypes: bool(1), float64(9), int64(4), object(6)\n",
            "memory usage: 243.8+ KB\n"
          ]
        }
      ],
      "source": [
        "df.info()"
      ]
    },
    {
      "cell_type": "code",
      "execution_count": null,
      "metadata": {
        "colab": {
          "base_uri": "https://localhost:8080/"
        },
        "id": "YgXJcHt_qCnG",
        "outputId": "30ba4ef0-b32b-428d-849b-b5aab06a3a2f"
      },
      "outputs": [],
      "source": [
        "def read_audio_data(f, n_mels):\n",
        "  y, sr = librosa.load(f, duration=30)\n",
        "  chroma_stft = librosa.feature.chroma_stft(y=y, sr=sr)\n",
        "  rmse = librosa.feature.rms(y=y)[0]\n",
        "  spec_cent = librosa.feature.spectral_centroid(y=y, sr=sr)\n",
        "  spec_bw = librosa.feature.spectral_bandwidth(y=y, sr=sr)\n",
        "  rolloff = librosa.feature.spectral_rolloff(y=y, sr=sr)\n",
        "  zcr = librosa.feature.zero_crossing_rate(y, pad=False)\n",
        "  mfcc = librosa.feature.mfcc(y=y, sr=sr)\n",
        "  melspectrogram = librosa.feature.melspectrogram(y=y, sr=sr, n_mels=n_mels)\n",
        "  result = {\n",
        "      'chroma': chroma_stft,\n",
        "      'rmse': rmse,\n",
        "      'spec_cent': spec_cent,\n",
        "      'spec_bw': spec_bw,\n",
        "      'rolloff': rolloff,\n",
        "      'zcr': zcr,\n",
        "      'melspectrogram': melspectrogram\n",
        "  }\n",
        "  return result\n",
        "\n",
        "spotify_top['filename'] = '/content/' + folder_name + '/' + spotify_top['id'] + '.mp3'\n",
        "\n",
        "\n",
        "warnings.filterwarnings('ignore', category=UserWarning, module='librosa')\n",
        "if not path.exists('/content/gdrive/MyDrive/Cuetessa/audio_data_' + str(n_mels) + '.joblib'):\n",
        "  audio_data = []\n",
        "  for i in tqdm(range(len(spotify_top.filename.values))):\n",
        "    f = spotify_top.filename.values[i]\n",
        "    audio_data.append(read_audio_data(f, n_mels=n_mels))\n",
        "  print('Audio data succesfully processed!')\n",
        "  joblib.dump(audio_data, '/content/gdrive/MyDrive/Cuetessa/audio_data_' + str(n_mels) + '.joblib')\n",
        "else:\n",
        "  audio_data = joblib.load('/content/gdrive/MyDrive/Cuetessa/audio_data_' + str(n_mels) + '.joblib')\n",
        "  print('Audio data succesfully loaded!')"
      ]
    },
    {
      "cell_type": "code",
      "execution_count": null,
      "metadata": {
        "id": "ameHCb5ckJXr"
      },
      "outputs": [],
      "source": [
        "X = pd.DataFrame(audio_data)\n",
        "Y = spotify_top['valence']\n",
        "\n",
        "del audio_data"
      ]
    },
    {
      "cell_type": "code",
      "execution_count": null,
      "metadata": {
        "colab": {
          "base_uri": "https://localhost:8080/"
        },
        "id": "qajFs4wst-U4",
        "outputId": "4a5b28d5-b5bf-43f8-d437-dcb15a3d3f84"
      },
      "outputs": [
        {
          "name": "stdout",
          "output_type": "stream",
          "text": [
            "chroma is shape (12, 1292)\n",
            "rmse is shape (1292,)\n",
            "spec_cent is shape (1, 1292)\n",
            "spec_bw is shape (1, 1292)\n",
            "rolloff is shape (1, 1292)\n",
            "zcr is shape (1, 1292)\n",
            "melspectrogram is shape (64, 1292)\n",
            "Correcting shape of observations rmse...\n",
            "rmse is shape (1, 1292)\n"
          ]
        }
      ],
      "source": [
        "for i in X.columns:\n",
        "  print(i, 'is shape', X[i][0].shape)\n",
        "\n",
        "print('Correcting shape of observations rmse...')\n",
        "\n",
        "X['rmse'] = X['rmse'].apply(lambda x: np.array([x]))\n",
        "\n",
        "print('rmse is shape', X['rmse'][0].shape)"
      ]
    },
    {
      "cell_type": "code",
      "execution_count": null,
      "metadata": {
        "colab": {
          "base_uri": "https://localhost:8080/"
        },
        "id": "E6xqE6Oly1LV",
        "outputId": "76693f14-31d1-428e-ac32-4bccaed45998"
      },
      "outputs": [],
      "source": [
        "shape_dict = {}\n",
        "for i in X.columns:\n",
        "  shape_dict[i] = []\n",
        "  for j in X[i]:\n",
        "    shape_dict[i].append(j.shape[1])\n",
        "\n",
        "preview_sizes = pd.Series(shape_dict['chroma']).value_counts()\n",
        "preview_sizes"
      ]
    },
    {
      "cell_type": "code",
      "execution_count": null,
      "metadata": {
        "id": "TXqr3w6r0X4O"
      },
      "outputs": [],
      "source": [
        "for i in preview_sizes[1:].index.values:\n",
        "  while True:\n",
        "    try:\n",
        "      delete_index = shape_dict['chroma'].index(i)\n",
        "      X.drop(delete_index, inplace=True)\n",
        "      Y.drop(delete_index, inplace=True)\n",
        "      df.drop(delete_index, inplace=True)\n",
        "      shape_dict['chroma'][delete_index] = None\n",
        "    except:\n",
        "      break"
      ]
    },
    {
      "cell_type": "code",
      "execution_count": null,
      "metadata": {
        "colab": {
          "base_uri": "https://localhost:8080/"
        },
        "id": "4UWqZuoT1uv8",
        "outputId": "e3f14da0-643d-41a3-d328-f56df005c9ef"
      },
      "outputs": [],
      "source": [
        "shape_dict = {}\n",
        "for i in X.columns:\n",
        "  shape_dict[i] = []\n",
        "  for j in X[i]:\n",
        "    shape_dict[i].append(j.shape[1])\n",
        "\n",
        "preview_sizes = pd.Series(shape_dict['chroma']).value_counts()\n",
        "preview_sizes"
      ]
    },
    {
      "cell_type": "code",
      "execution_count": null,
      "metadata": {
        "colab": {
          "base_uri": "https://localhost:8080/"
        },
        "id": "eE0KHQI-3TNB",
        "outputId": "a885e068-aa8c-4755-f960-4e3d0cb82cf9"
      },
      "outputs": [],
      "source": [
        "for i in ['X', 'Y', 'df']:\n",
        "  globals()[i].reset_index(drop=True, inplace=True)\n",
        "  print('Shape of', i, 'is', globals()[i].shape)"
      ]
    },
    {
      "cell_type": "code",
      "execution_count": null,
      "metadata": {
        "id": "TXe6b4yg8e1M"
      },
      "outputs": [],
      "source": [
        "single_size = [i for i in X.columns if i != 'melspectrogram']\n",
        "for i in single_size:\n",
        "  X.loc[:][i] = X[i].apply(lambda x: np.resize(x, (1, preview_sizes.index.values[0])))\n",
        "X.loc[:]['melspectrogram'] = X['melspectrogram'].apply(lambda x: np.resize(x, (n_mels, preview_sizes.index.values[0])))"
      ]
    },
    {
      "cell_type": "code",
      "execution_count": null,
      "metadata": {
        "colab": {
          "base_uri": "https://localhost:8080/"
        },
        "id": "xUty78-Y8nGg",
        "outputId": "fe0587bf-18e1-482d-9528-56aeb01d8079"
      },
      "outputs": [
        {
          "name": "stdout",
          "output_type": "stream",
          "text": [
            "At this point, all features from audio data are standardized regarding shapes.\n"
          ]
        }
      ],
      "source": [
        "print('At this point, all features from audio data are standardized regarding shapes.')"
      ]
    },
    {
      "cell_type": "code",
      "execution_count": null,
      "metadata": {
        "colab": {
          "base_uri": "https://localhost:8080/"
        },
        "id": "Kd96Snw2ua0s",
        "outputId": "0d6e3d48-d32f-4f2f-d030-b53912dc7798"
      },
      "outputs": [
        {
          "name": "stdout",
          "output_type": "stream",
          "text": [
            "Sampled songs are: [564]\n",
            "\n",
            "564\n",
            "Song name is: Only\n",
            "Song artist is: Imagine Dragons\n",
            "Song valence is: 0.424\n",
            "\n"
          ]
        }
      ],
      "source": [
        "n_samples = 1\n",
        "samples = df.sample(n_samples, random_state=2023).index\n",
        "\n",
        "print('Sampled songs are:', list(samples.values), end='\\n\\n')\n",
        "\n",
        "for i in samples:\n",
        "  print(i)\n",
        "  print('Song name is:', df.iloc[i]['name'])\n",
        "  print('Song artist is:', df.iloc[i]['artists'])\n",
        "  print('Song valence is:', df.iloc[i]['valence'], end='\\n\\n')"
      ]
    },
    {
      "cell_type": "code",
      "execution_count": null,
      "metadata": {
        "colab": {
          "base_uri": "https://localhost:8080/"
        },
        "id": "cJfYxmfXBPwb",
        "outputId": "1d69e98e-9fec-4651-bf56-615273debef4"
      },
      "outputs": [
        {
          "data": {
            "text/plain": [
              "Index(['chroma', 'rmse', 'spec_cent', 'spec_bw', 'rolloff', 'zcr',\n",
              "       'melspectrogram'],\n",
              "      dtype='object')"
            ]
          },
          "execution_count": 155,
          "metadata": {},
          "output_type": "execute_result"
        }
      ],
      "source": [
        "X.columns"
      ]
    },
    {
      "cell_type": "code",
      "execution_count": null,
      "metadata": {
        "colab": {
          "base_uri": "https://localhost:8080/",
          "height": 338
        },
        "id": "cqHnosuK9io2",
        "outputId": "0ea6c229-43fa-43f6-c9b0-4640b9aa19d0"
      },
      "outputs": [
        {
          "data": {
            "image/png": "[encoded data removed]",
            "text/plain": [
              "<Figure size 1008x360 with 2 Axes>"
            ]
          },
          "metadata": {
            "needs_background": "light"
          },
          "output_type": "display_data"
        }
      ],
      "source": [
        "for i in samples.values:\n",
        "  plt.figure(figsize=(14,5))\n",
        "  melspect = X.loc[i]['melspectrogram']\n",
        "  DB = librosa.amplitude_to_db(melspect, ref=np.max)\n",
        "  librosa.display.specshow(DB, x_axis='time', y_axis='log');\n",
        "  plt.colorbar(format='%+2.0f dB');"
      ]
    },
    {
      "cell_type": "code",
      "execution_count": null,
      "metadata": {
        "colab": {
          "base_uri": "https://localhost:8080/",
          "height": 269
        },
        "id": "LJ0c7vDeCNKw",
        "outputId": "4b72086b-3d67-452a-ad28-842eaea77b67"
      },
      "outputs": [
        {
          "data": {
            "image/png": "[encoded data removed]",
            "text/plain": [
              "<Figure size 432x288 with 1 Axes>"
            ]
          },
          "metadata": {
            "needs_background": "light"
          },
          "output_type": "display_data"
        }
      ],
      "source": [
        "Y.hist(density=True, bins=30)\n",
        "plt.show()"
      ]
    },
    {
      "cell_type": "code",
      "execution_count": null,
      "metadata": {
        "colab": {
          "base_uri": "https://localhost:8080/",
          "height": 266
        },
        "id": "DNYOoZ0fCOrz",
        "outputId": "27aa13a1-b504-4203-ef75-f1549c3bd764"
      },
      "outputs": [
        {
          "data": {
            "image/png": "[encoded data removed]",
            "text/plain": [
              "<Figure size 432x288 with 1 Axes>"
            ]
          },
          "metadata": {
            "needs_background": "light"
          },
          "output_type": "display_data"
        }
      ],
      "source": [
        "plt.boxplot(Y)\n",
        "plt.show()"
      ]
    },
    {
      "cell_type": "code",
      "execution_count": null,
      "metadata": {
        "id": "jJa3rNGXCfN0"
      },
      "outputs": [],
      "source": [
        "X_alt = pd.DataFrame(np.zeros(X.shape[0]), columns=['chroma_mean'])\n",
        "\n",
        "for i in single_size:\n",
        "  X_alt[i + '_mean'] = X[i].apply(lambda x: np.mean(x[0]))\n",
        "  X_alt[i + '_var'] = X[i].apply(lambda x: np.var(x[0]))\n",
        "  X_alt[i + '_min'] = X[i].apply(lambda x: min(x[0]))\n",
        "  X_alt[i + '_max'] = X[i].apply(lambda x: max(x[0]))"
      ]
    },
    {
      "cell_type": "code",
      "execution_count": null,
      "metadata": {
        "colab": {
          "base_uri": "https://localhost:8080/"
        },
        "id": "bnbT7XVVD6Mq",
        "outputId": "c33b3959-0ad2-4912-c18b-a52829149dc0"
      },
      "outputs": [
        {
          "name": "stdout",
          "output_type": "stream",
          "text": [
            "<class 'pandas.core.frame.DataFrame'>\n",
            "RangeIndex: 1628 entries, 0 to 1627\n",
            "Data columns (total 24 columns):\n",
            " #   Column          Non-Null Count  Dtype  \n",
            "---  ------          --------------  -----  \n",
            " 0   chroma_mean     1628 non-null   float32\n",
            " 1   chroma_var      1628 non-null   float32\n",
            " 2   chroma_min      1628 non-null   float32\n",
            " 3   chroma_max      1628 non-null   float32\n",
            " 4   rmse_mean       1628 non-null   float32\n",
            " 5   rmse_var        1628 non-null   float32\n",
            " 6   rmse_min        1628 non-null   float32\n",
            " 7   rmse_max        1628 non-null   float32\n",
            " 8   spec_cent_mean  1628 non-null   float64\n",
            " 9   spec_cent_var   1628 non-null   float64\n",
            " 10  spec_cent_min   1628 non-null   float64\n",
            " 11  spec_cent_max   1628 non-null   float64\n",
            " 12  spec_bw_mean    1628 non-null   float64\n",
            " 13  spec_bw_var     1628 non-null   float64\n",
            " 14  spec_bw_min     1628 non-null   float64\n",
            " 15  spec_bw_max     1628 non-null   float64\n",
            " 16  rolloff_mean    1628 non-null   float64\n",
            " 17  rolloff_var     1628 non-null   float64\n",
            " 18  rolloff_min     1628 non-null   float64\n",
            " 19  rolloff_max     1628 non-null   float64\n",
            " 20  zcr_mean        1628 non-null   float64\n",
            " 21  zcr_var         1628 non-null   float64\n",
            " 22  zcr_min         1628 non-null   float64\n",
            " 23  zcr_max         1628 non-null   float64\n",
            "dtypes: float32(8), float64(16)\n",
            "memory usage: 254.5 KB\n"
          ]
        }
      ],
      "source": [
        "X_alt.info()"
      ]
    },
    {
      "cell_type": "code",
      "execution_count": null,
      "metadata": {
        "id": "-pTgAd4Q05Vp"
      },
      "outputs": [],
      "source": [
        "X_train = X.iloc[df.sample(frac=0.8).index]\n",
        "X_alt_train = X_alt.iloc[X_train.index]\n",
        "Y_train = Y.iloc[X_train.index]\n",
        "\n",
        "X_test = X.iloc[[i for i in df.index if i not in X_train.index]]\n",
        "X_alt_test = X_alt.iloc[X_test.index]\n",
        "Y_test = Y.iloc[X_test.index]\n",
        "\n",
        "X_train_mel = np.dstack(X_train['melspectrogram'])\n",
        "X_test_mel = np.dstack(X_test['melspectrogram'])\n",
        "\n",
        "X_train_mel = np.transpose(X_train_mel, (2, 0, 1))\n",
        "X_test_mel = np.transpose(X_test_mel, (2, 0, 1))"
      ]
    },
    {
      "cell_type": "code",
      "execution_count": null,
      "metadata": {
        "colab": {
          "base_uri": "https://localhost:8080/",
          "height": 127
        },
        "id": "TbHhDM-NLHKF",
        "outputId": "8f39c285-7b80-49ce-90d5-1a67f60667f4"
      },
      "outputs": [],
      "source": [
        "display(X_train.shape)\n",
        "display(X_alt_train.shape)\n",
        "display(Y_train.shape)\n",
        "\n",
        "display(X_test.shape)\n",
        "display(X_alt_test.shape)\n",
        "display(Y_test.shape)"
      ]
    },
    {
      "cell_type": "code",
      "execution_count": null,
      "metadata": {
        "id": "pZzxL7DdLriB"
      },
      "outputs": [],
      "source": [
        "cat = catboost.CatBoostRegressor(random_state=1995, verbose=False)\n",
        "cat_dict = {\n",
        "    'depth': [3, 5],\n",
        "    'learning_rate': [0.01, 0.03, 0.05],\n",
        "    'iterations': [500, 1000]\n",
        "}"
      ]
    },
    {
      "cell_type": "code",
      "execution_count": null,
      "metadata": {
        "colab": {
          "base_uri": "https://localhost:8080/"
        },
        "id": "xy2Y_tA-MB_A",
        "outputId": "c2577b4d-5c88-4149-f61c-8ff88493ce08"
      },
      "outputs": [],
      "source": [
        "results = cat.grid_search(cat_dict, X=X_alt_train, y=Y_train, cv=3, verbose=False)"
      ]
    },
    {
      "cell_type": "code",
      "execution_count": null,
      "metadata": {
        "colab": {
          "base_uri": "https://localhost:8080/",
          "height": 269
        },
        "id": "02EqBPMaSLuY",
        "outputId": "9e76c1c2-4fa7-450d-fdae-aa7edbf3703e"
      },
      "outputs": [
        {
          "data": {
            "text/html": [
              "\n",
              "  <div id=\"df-60408dd3-182f-427a-9a4d-abdb294e0edf\">\n",
              "    <div class=\"colab-df-container\">\n",
              "      <div>\n",
              "<style scoped>\n",
              "    .dataframe tbody tr th:only-of-type {\n",
              "        vertical-align: middle;\n",
              "    }\n",
              "\n",
              "    .dataframe tbody tr th {\n",
              "        vertical-align: top;\n",
              "    }\n",
              "\n",
              "    .dataframe thead th {\n",
              "        text-align: right;\n",
              "    }\n",
              "</style>\n",
              "<table border=\"1\" class=\"dataframe\">\n",
              "  <thead>\n",
              "    <tr style=\"text-align: right;\">\n",
              "      <th></th>\n",
              "      <th>params</th>\n",
              "      <th>cv_results</th>\n",
              "    </tr>\n",
              "  </thead>\n",
              "  <tbody>\n",
              "    <tr>\n",
              "      <th>depth</th>\n",
              "      <td>5.00</td>\n",
              "      <td>NaN</td>\n",
              "    </tr>\n",
              "    <tr>\n",
              "      <th>iterations</th>\n",
              "      <td>1000.00</td>\n",
              "      <td>[0, 1, 2, 3, 4, 5, 6, 7, 8, 9, 10, 11, 12, 13,...</td>\n",
              "    </tr>\n",
              "    <tr>\n",
              "      <th>learning_rate</th>\n",
              "      <td>0.03</td>\n",
              "      <td>NaN</td>\n",
              "    </tr>\n",
              "    <tr>\n",
              "      <th>test-RMSE-mean</th>\n",
              "      <td>NaN</td>\n",
              "      <td>[0.5324648029683282, 0.520421042621819, 0.5084...</td>\n",
              "    </tr>\n",
              "    <tr>\n",
              "      <th>test-RMSE-std</th>\n",
              "      <td>NaN</td>\n",
              "      <td>[0.0050436748082074495, 0.0051458570579528086,...</td>\n",
              "    </tr>\n",
              "    <tr>\n",
              "      <th>train-RMSE-mean</th>\n",
              "      <td>NaN</td>\n",
              "      <td>[0.5323960918569846, 0.5202270065429969, 0.508...</td>\n",
              "    </tr>\n",
              "    <tr>\n",
              "      <th>train-RMSE-std</th>\n",
              "      <td>NaN</td>\n",
              "      <td>[0.0022049292164513725, 0.0021191722711956284,...</td>\n",
              "    </tr>\n",
              "  </tbody>\n",
              "</table>\n",
              "</div>\n",
              "      <button class=\"colab-df-convert\" onclick=\"convertToInteractive('df-60408dd3-182f-427a-9a4d-abdb294e0edf')\"\n",
              "              title=\"Convert this dataframe to an interactive table.\"\n",
              "              style=\"display:none;\">\n",
              "        \n",
              "  <svg xmlns=\"http://www.w3.org/2000/svg\" height=\"24px\"viewBox=\"0 0 24 24\"\n",
              "       width=\"24px\">\n",
              "    <path d=\"M0 0h24v24H0V0z\" fill=\"none\"/>\n",
              "    <path d=\"M18.56 5.44l.94 2.06.94-2.06 2.06-.94-2.06-.94-.94-2.06-.94 2.06-2.06.94zm-11 1L8.5 8.5l.94-2.06 2.06-.94-2.06-.94L8.5 2.5l-.94 2.06-2.06.94zm10 10l.94 2.06.94-2.06 2.06-.94-2.06-.94-.94-2.06-.94 2.06-2.06.94z\"/><path d=\"M17.41 7.96l-1.37-1.37c-.4-.4-.92-.59-1.43-.59-.52 0-1.04.2-1.43.59L10.3 9.45l-7.72 7.72c-.78.78-.78 2.05 0 2.83L4 21.41c.39.39.9.59 1.41.59.51 0 1.02-.2 1.41-.59l7.78-7.78 2.81-2.81c.8-.78.8-2.07 0-2.86zM5.41 20L4 18.59l7.72-7.72 1.47 1.35L5.41 20z\"/>\n",
              "  </svg>\n",
              "      </button>\n",
              "      \n",
              "  <style>\n",
              "    .colab-df-container {\n",
              "      display:flex;\n",
              "      flex-wrap:wrap;\n",
              "      gap: 12px;\n",
              "    }\n",
              "\n",
              "    .colab-df-convert {\n",
              "      background-color: #E8F0FE;\n",
              "      border: none;\n",
              "      border-radius: 50%;\n",
              "      cursor: pointer;\n",
              "      display: none;\n",
              "      fill: #1967D2;\n",
              "      height: 32px;\n",
              "      padding: 0 0 0 0;\n",
              "      width: 32px;\n",
              "    }\n",
              "\n",
              "    .colab-df-convert:hover {\n",
              "      background-color: #E2EBFA;\n",
              "      box-shadow: 0px 1px 2px rgba(60, 64, 67, 0.3), 0px 1px 3px 1px rgba(60, 64, 67, 0.15);\n",
              "      fill: #174EA6;\n",
              "    }\n",
              "\n",
              "    [theme=dark] .colab-df-convert {\n",
              "      background-color: #3B4455;\n",
              "      fill: #D2E3FC;\n",
              "    }\n",
              "\n",
              "    [theme=dark] .colab-df-convert:hover {\n",
              "      background-color: #434B5C;\n",
              "      box-shadow: 0px 1px 3px 1px rgba(0, 0, 0, 0.15);\n",
              "      filter: drop-shadow(0px 1px 2px rgba(0, 0, 0, 0.3));\n",
              "      fill: #FFFFFF;\n",
              "    }\n",
              "  </style>\n",
              "\n",
              "      <script>\n",
              "        const buttonEl =\n",
              "          document.querySelector('#df-60408dd3-182f-427a-9a4d-abdb294e0edf button.colab-df-convert');\n",
              "        buttonEl.style.display =\n",
              "          google.colab.kernel.accessAllowed ? 'block' : 'none';\n",
              "\n",
              "        async function convertToInteractive(key) {\n",
              "          const element = document.querySelector('#df-60408dd3-182f-427a-9a4d-abdb294e0edf');\n",
              "          const dataTable =\n",
              "            await google.colab.kernel.invokeFunction('convertToInteractive',\n",
              "                                                     [key], {});\n",
              "          if (!dataTable) return;\n",
              "\n",
              "          const docLinkHtml = 'Like what you see? Visit the ' +\n",
              "            '<a target=\"_blank\" href=https://colab.research.google.com/notebooks/data_table.ipynb>data table notebook</a>'\n",
              "            + ' to learn more about interactive tables.';\n",
              "          element.innerHTML = '';\n",
              "          dataTable['output_type'] = 'display_data';\n",
              "          await google.colab.output.renderOutput(dataTable, element);\n",
              "          const docLink = document.createElement('div');\n",
              "          docLink.innerHTML = docLinkHtml;\n",
              "          element.appendChild(docLink);\n",
              "        }\n",
              "      </script>\n",
              "    </div>\n",
              "  </div>\n",
              "  "
            ],
            "text/plain": [
              "                  params                                         cv_results\n",
              "depth               5.00                                                NaN\n",
              "iterations       1000.00  [0, 1, 2, 3, 4, 5, 6, 7, 8, 9, 10, 11, 12, 13,...\n",
              "learning_rate       0.03                                                NaN\n",
              "test-RMSE-mean       NaN  [0.5324648029683282, 0.520421042621819, 0.5084...\n",
              "test-RMSE-std        NaN  [0.0050436748082074495, 0.0051458570579528086,...\n",
              "train-RMSE-mean      NaN  [0.5323960918569846, 0.5202270065429969, 0.508...\n",
              "train-RMSE-std       NaN  [0.0022049292164513725, 0.0021191722711956284,..."
            ]
          },
          "execution_count": 164,
          "metadata": {},
          "output_type": "execute_result"
        }
      ],
      "source": [
        "pd.DataFrame(results)"
      ]
    },
    {
      "cell_type": "code",
      "execution_count": null,
      "metadata": {
        "colab": {
          "base_uri": "https://localhost:8080/",
          "height": 265
        },
        "id": "FVrff9a4Xhup",
        "outputId": "f65c1ff0-4d5e-49c4-b11a-20b2275f34ad"
      },
      "outputs": [
        {
          "data": {
            "image/png": "[encoded data removed]",
            "text/plain": [
              "<Figure size 432x288 with 1 Axes>"
            ]
          },
          "metadata": {
            "needs_background": "light"
          },
          "output_type": "display_data"
        }
      ],
      "source": [
        "plt.hist(Y_train, bins=20, density=True, alpha=0.7)\n",
        "plt.hist(Y_test, bins=20, density=True, alpha=0.7)\n",
        "plt.show()"
      ]
    },
    {
      "cell_type": "code",
      "execution_count": null,
      "metadata": {
        "colab": {
          "base_uri": "https://localhost:8080/",
          "height": 190
        },
        "id": "RA5LGnwhRNqN",
        "outputId": "b1d62241-0212-47b8-9a73-561fddc26b18"
      },
      "outputs": [],
      "source": [
        "prediction = cat.predict(X_alt_test)\n",
        "print(np.sqrt(skl.metrics.mean_squared_error(prediction, Y_test)))"
      ]
    },
    {
      "cell_type": "code",
      "execution_count": null,
      "metadata": {
        "colab": {
          "base_uri": "https://localhost:8080/"
        },
        "id": "ZrDMaC54nO73",
        "outputId": "25508377-7430-45f0-aa66-5584b0448ed5"
      },
      "outputs": [
        {
          "name": "stdout",
          "output_type": "stream",
          "text": [
            "Model: \"sequential_2\"\n",
            "_________________________________________________________________\n",
            " Layer (type)                Output Shape              Param #   \n",
            "=================================================================\n",
            " conv2d_6 (Conv2D)           (None, 62, 1290, 32)      320       \n",
            "                                                                 \n",
            " max_pooling2d_4 (MaxPooling  (None, 31, 645, 32)      0         \n",
            " 2D)                                                             \n",
            "                                                                 \n",
            " dropout_6 (Dropout)         (None, 31, 645, 32)       0         \n",
            "                                                                 \n",
            " conv2d_7 (Conv2D)           (None, 29, 643, 64)       18496     \n",
            "                                                                 \n",
            " max_pooling2d_5 (MaxPooling  (None, 14, 321, 64)      0         \n",
            " 2D)                                                             \n",
            "                                                                 \n",
            " dropout_7 (Dropout)         (None, 14, 321, 64)       0         \n",
            "                                                                 \n",
            " conv2d_8 (Conv2D)           (None, 12, 319, 64)       36928     \n",
            "                                                                 \n",
            " flatten_2 (Flatten)         (None, 244992)            0         \n",
            "                                                                 \n",
            " dense_6 (Dense)             (None, 64)                15679552  \n",
            "                                                                 \n",
            " dropout_8 (Dropout)         (None, 64)                0         \n",
            "                                                                 \n",
            " dense_7 (Dense)             (None, 32)                2080      \n",
            "                                                                 \n",
            " dense_8 (Dense)             (None, 1)                 33        \n",
            "                                                                 \n",
            "=================================================================\n",
            "Total params: 15,737,409\n",
            "Trainable params: 15,737,409\n",
            "Non-trainable params: 0\n",
            "_________________________________________________________________\n"
          ]
        }
      ],
      "source": [
        "input_shape=(n_mels,preview_sizes.index.values[0], 1)\n",
        "CNNmodel = models.Sequential()\n",
        "CNNmodel.add(layers.Conv2D(32, (3, 3), activation='relu', input_shape=input_shape))\n",
        "CNNmodel.add(layers.MaxPooling2D((2, 2)))\n",
        "CNNmodel.add(layers.Dropout(0.2))\n",
        "CNNmodel.add(layers.Conv2D(64, (3, 3), activation='relu'))\n",
        "CNNmodel.add(layers.MaxPooling2D((2, 2)))\n",
        "CNNmodel.add(layers.Dropout(0.2))\n",
        "CNNmodel.add(layers.Conv2D(64, (3, 3), activation='relu'))\n",
        "CNNmodel.add(layers.Flatten())\n",
        "CNNmodel.add(layers.Dense(64, activation='relu'))\n",
        "CNNmodel.add(layers.Dropout(0.2))\n",
        "CNNmodel.add(layers.Dense(32, activation='relu'))\n",
        "CNNmodel.add(layers.Dense(1, activation='linear'))\n",
        "\n",
        "CNNmodel.compile(loss='mean_squared_error', # one may use 'mean_absolute_error' as  mean_squared_error\n",
        "                 optimizer='adam',\n",
        "                 metrics=['mean_absolute_error'] # you can add several if needed\n",
        "                 )\n",
        "\n",
        "CNNmodel.summary()"
      ]
    },
    {
      "cell_type": "code",
      "execution_count": null,
      "metadata": {
        "colab": {
          "base_uri": "https://localhost:8080/"
        },
        "id": "NPRip_0ZnVez",
        "outputId": "99ea4216-fa20-40fc-9cb0-07e68bb5b83d"
      },
      "outputs": [],
      "source": [
        "CNNmodel.fit(X_train_mel, Y_train, epochs=150, batch_size=batchsize, verbose=2)"
      ]
    },
    {
      "cell_type": "code",
      "execution_count": null,
      "metadata": {
        "id": "KhLcS24o5-k2"
      },
      "outputs": [],
      "source": [
        "score = CNNmodel.evaluate(X_test, Y_test, verbose=0)"
      ]
    },
    {
      "cell_type": "code",
      "execution_count": null,
      "metadata": {
        "id": "yxvQZzEUMug6"
      },
      "outputs": [],
      "source": [
        "joblib.dump(CNNmodel, '/content/gdrive/MyDrive/Cuetessa/CNNmodel2.joblib')"
      ]
    },
    {
      "cell_type": "code",
      "execution_count": null,
      "metadata": {
        "colab": {
          "base_uri": "https://localhost:8080/"
        },
        "id": "Jv2Zo6tRl9tp",
        "outputId": "4891c3c9-957d-480d-bfe9-94d0e45b3e95"
      },
      "outputs": [
        {
          "name": "stdout",
          "output_type": "stream",
          "text": [
            "11/11 [==============================] - 5s 440ms/step\n"
          ]
        },
        {
          "data": {
            "text/plain": [
              "array([[0.578882  ],\n",
              "       [0.45341143],\n",
              "       [0.534594  ],\n",
              "       [0.5162951 ],\n",
              "       [0.47802904],\n",
              "       [0.50198275],\n",
              "       [0.50947934],\n",
              "       [0.5128258 ],\n",
              "       [0.5828963 ],\n",
              "       [0.48564237],\n",
              "       [0.7818805 ],\n",
              "       [0.27907753],\n",
              "       [0.5162951 ],\n",
              "       [0.5259607 ],\n",
              "       [0.5162951 ],\n",
              "       [0.5162951 ],\n",
              "       [0.49463043],\n",
              "       [0.5124551 ],\n",
              "       [0.47319573],\n",
              "       [0.45819095],\n",
              "       [0.44475436],\n",
              "       [0.61660206],\n",
              "       [0.5162951 ],\n",
              "       [0.65806097],\n",
              "       [0.4211634 ],\n",
              "       [0.52741957],\n",
              "       [0.51369494],\n",
              "       [0.5152396 ],\n",
              "       [0.5162951 ],\n",
              "       [0.48953015],\n",
              "       [0.25887477],\n",
              "       [0.36411268],\n",
              "       [0.49032736],\n",
              "       [0.5188952 ],\n",
              "       [0.44598395],\n",
              "       [0.3115015 ],\n",
              "       [0.4181109 ],\n",
              "       [0.42753217],\n",
              "       [0.50833154],\n",
              "       [0.78323126],\n",
              "       [0.62381524],\n",
              "       [0.5162951 ],\n",
              "       [0.3735687 ],\n",
              "       [0.5876527 ],\n",
              "       [0.56606454],\n",
              "       [0.506699  ],\n",
              "       [0.43565536],\n",
              "       [0.39021552],\n",
              "       [0.39504686],\n",
              "       [0.4946933 ],\n",
              "       [0.5119155 ],\n",
              "       [0.424855  ],\n",
              "       [0.5164519 ],\n",
              "       [0.40007824],\n",
              "       [0.5162951 ],\n",
              "       [0.41084597],\n",
              "       [0.5162951 ],\n",
              "       [0.22164036],\n",
              "       [0.5172331 ],\n",
              "       [0.4807725 ],\n",
              "       [0.5162951 ],\n",
              "       [0.25669774],\n",
              "       [0.51301676],\n",
              "       [0.5180119 ],\n",
              "       [0.40993327],\n",
              "       [0.5113644 ],\n",
              "       [0.53148204],\n",
              "       [0.5320631 ],\n",
              "       [0.5170643 ],\n",
              "       [0.51471937],\n",
              "       [0.3588854 ],\n",
              "       [0.28641117],\n",
              "       [0.5162951 ],\n",
              "       [0.5213436 ],\n",
              "       [0.54943675],\n",
              "       [0.40677074],\n",
              "       [0.5581366 ],\n",
              "       [0.41732663],\n",
              "       [0.48822522],\n",
              "       [0.5014483 ],\n",
              "       [0.5162951 ],\n",
              "       [0.45445547],\n",
              "       [0.5162951 ],\n",
              "       [0.5196303 ],\n",
              "       [0.51699823],\n",
              "       [0.5141265 ],\n",
              "       [0.7173347 ],\n",
              "       [0.5162951 ],\n",
              "       [0.48996887],\n",
              "       [0.5149678 ],\n",
              "       [0.26082185],\n",
              "       [0.47021765],\n",
              "       [0.516101  ],\n",
              "       [0.46869385],\n",
              "       [0.516295  ],\n",
              "       [0.5652763 ],\n",
              "       [0.26507577],\n",
              "       [0.55443275],\n",
              "       [0.5223261 ],\n",
              "       [0.5126764 ],\n",
              "       [0.34258825],\n",
              "       [0.45143154],\n",
              "       [0.3501752 ],\n",
              "       [0.5097763 ],\n",
              "       [0.4943857 ],\n",
              "       [0.6181418 ],\n",
              "       [0.5133107 ],\n",
              "       [0.45973715],\n",
              "       [0.51840895],\n",
              "       [0.4159416 ],\n",
              "       [0.15141468],\n",
              "       [0.4232891 ],\n",
              "       [0.49466628],\n",
              "       [0.46612018],\n",
              "       [0.5162951 ],\n",
              "       [0.3827245 ],\n",
              "       [0.21886675],\n",
              "       [0.47810355],\n",
              "       [0.5162951 ],\n",
              "       [0.2993948 ],\n",
              "       [0.52126104],\n",
              "       [0.5134568 ],\n",
              "       [0.51708835],\n",
              "       [0.47603524],\n",
              "       [0.51576525],\n",
              "       [0.49117634],\n",
              "       [0.5035507 ],\n",
              "       [0.6645905 ],\n",
              "       [0.31446844],\n",
              "       [0.5162951 ],\n",
              "       [0.5088907 ],\n",
              "       [0.6683479 ],\n",
              "       [0.4498143 ],\n",
              "       [0.5047732 ],\n",
              "       [0.37759653],\n",
              "       [0.31830674],\n",
              "       [0.51232433],\n",
              "       [0.5162951 ],\n",
              "       [0.48971307],\n",
              "       [0.5138956 ],\n",
              "       [0.50058293],\n",
              "       [0.5162951 ],\n",
              "       [0.5914747 ],\n",
              "       [0.51663005],\n",
              "       [0.5214714 ],\n",
              "       [0.47907776],\n",
              "       [0.5162951 ],\n",
              "       [0.5344037 ],\n",
              "       [0.5162951 ],\n",
              "       [0.54957026],\n",
              "       [0.5214691 ],\n",
              "       [0.5163074 ],\n",
              "       [0.48141187],\n",
              "       [0.5184328 ],\n",
              "       [0.43764168],\n",
              "       [0.5240894 ],\n",
              "       [0.5157897 ],\n",
              "       [0.371368  ],\n",
              "       [0.516295  ],\n",
              "       [0.51713574],\n",
              "       [0.51712584],\n",
              "       [0.42933723],\n",
              "       [0.2500362 ],\n",
              "       [0.5230749 ],\n",
              "       [0.51808244],\n",
              "       [0.49996752],\n",
              "       [0.5162951 ],\n",
              "       [0.45337567],\n",
              "       [0.45951977],\n",
              "       [0.49640262],\n",
              "       [0.52564543],\n",
              "       [0.45577002],\n",
              "       [0.5162951 ],\n",
              "       [0.50012916],\n",
              "       [0.5096553 ],\n",
              "       [0.5159945 ],\n",
              "       [0.45172727],\n",
              "       [0.22621106],\n",
              "       [0.39594468],\n",
              "       [0.29758233],\n",
              "       [0.38532686],\n",
              "       [0.36077723],\n",
              "       [0.5662582 ],\n",
              "       [0.31059945],\n",
              "       [0.5162951 ],\n",
              "       [0.52693725],\n",
              "       [0.5162951 ],\n",
              "       [0.6553234 ],\n",
              "       [0.4800247 ],\n",
              "       [0.57529813],\n",
              "       [0.5325027 ],\n",
              "       [0.516295  ],\n",
              "       [0.5372501 ],\n",
              "       [0.41261032],\n",
              "       [0.47704542],\n",
              "       [0.5344376 ],\n",
              "       [0.5286755 ],\n",
              "       [0.32779023],\n",
              "       [0.27644366],\n",
              "       [0.22018577],\n",
              "       [0.5029292 ],\n",
              "       [0.51629996],\n",
              "       [0.3374657 ],\n",
              "       [0.51735055],\n",
              "       [0.45118433],\n",
              "       [0.49745864],\n",
              "       [0.45290756],\n",
              "       [0.5220818 ],\n",
              "       [0.41154248],\n",
              "       [0.5184946 ],\n",
              "       [0.5204139 ],\n",
              "       [0.4978897 ],\n",
              "       [0.25618124],\n",
              "       [0.53032017],\n",
              "       [0.44146353],\n",
              "       [0.5070646 ],\n",
              "       [0.5162951 ],\n",
              "       [0.19525938],\n",
              "       [0.33607745],\n",
              "       [0.5155115 ],\n",
              "       [0.51914275],\n",
              "       [0.51338625],\n",
              "       [0.516295  ],\n",
              "       [0.5193649 ],\n",
              "       [0.4382167 ],\n",
              "       [0.43624794],\n",
              "       [0.3363168 ],\n",
              "       [0.49217838],\n",
              "       [0.51622975],\n",
              "       [0.17215525],\n",
              "       [0.51517737],\n",
              "       [0.5565064 ],\n",
              "       [0.47375005],\n",
              "       [0.5162951 ],\n",
              "       [0.5162951 ],\n",
              "       [0.5145589 ],\n",
              "       [0.5013329 ],\n",
              "       [0.52447623],\n",
              "       [0.52502245],\n",
              "       [0.50387007],\n",
              "       [0.5122029 ],\n",
              "       [0.45296517],\n",
              "       [0.5162951 ],\n",
              "       [0.51696146],\n",
              "       [0.4975003 ],\n",
              "       [0.5889352 ],\n",
              "       [0.5245249 ],\n",
              "       [0.5555025 ],\n",
              "       [0.5152881 ],\n",
              "       [0.5277274 ],\n",
              "       [0.45564765],\n",
              "       [0.51747537],\n",
              "       [0.3625396 ],\n",
              "       [0.7060371 ],\n",
              "       [0.516295  ],\n",
              "       [0.29391313],\n",
              "       [0.5433588 ],\n",
              "       [0.3236684 ],\n",
              "       [0.49957523],\n",
              "       [0.36123008],\n",
              "       [0.5169733 ],\n",
              "       [0.5138534 ],\n",
              "       [0.5168723 ],\n",
              "       [0.33564785],\n",
              "       [0.5162951 ],\n",
              "       [0.52697945],\n",
              "       [0.48358184],\n",
              "       [0.34077236],\n",
              "       [0.49955487],\n",
              "       [0.5164145 ],\n",
              "       [0.5163385 ],\n",
              "       [0.5116235 ],\n",
              "       [0.27090302],\n",
              "       [0.27849415],\n",
              "       [0.5241764 ],\n",
              "       [0.5162951 ],\n",
              "       [0.42255223],\n",
              "       [0.46436772],\n",
              "       [0.45167494],\n",
              "       [0.4815548 ],\n",
              "       [0.5162951 ],\n",
              "       [0.43624884],\n",
              "       [0.51343083],\n",
              "       [0.19851445],\n",
              "       [0.5162951 ],\n",
              "       [0.5162951 ],\n",
              "       [0.45679283],\n",
              "       [0.4041471 ],\n",
              "       [0.5162951 ],\n",
              "       [0.40143865],\n",
              "       [0.36786512],\n",
              "       [0.5362285 ],\n",
              "       [0.52621883],\n",
              "       [0.47020054],\n",
              "       [0.5215848 ],\n",
              "       [0.5162951 ],\n",
              "       [0.4973927 ],\n",
              "       [0.36714262],\n",
              "       [0.48841602],\n",
              "       [0.26186088],\n",
              "       [0.5117396 ],\n",
              "       [0.5094702 ],\n",
              "       [0.521018  ],\n",
              "       [0.5021551 ],\n",
              "       [0.44889468],\n",
              "       [0.44618794],\n",
              "       [0.4493096 ],\n",
              "       [0.5432345 ],\n",
              "       [0.52133197],\n",
              "       [0.4717825 ],\n",
              "       [0.46325383],\n",
              "       [0.36116123],\n",
              "       [0.50955343],\n",
              "       [0.5162951 ],\n",
              "       [0.4872562 ],\n",
              "       [0.54243773],\n",
              "       [0.50423855],\n",
              "       [0.5162951 ],\n",
              "       [0.50259143],\n",
              "       [0.516295  ],\n",
              "       [0.45496422],\n",
              "       [0.22239327],\n",
              "       [0.24979873],\n",
              "       [0.47871283],\n",
              "       [0.51521295],\n",
              "       [0.4547068 ]], dtype=float32)"
            ]
          },
          "execution_count": 22,
          "metadata": {},
          "output_type": "execute_result"
        }
      ],
      "source": [
        "prediction = CNNmodel.predict(X_test)\n",
        "print(np.sqrt(skl.metrics.mean_absolute_error(prediction, Y_test)))\n",
        "print(skl.metrics.r2_score(prediction, Y_test))"
      ]
    },
    {
      "cell_type": "code",
      "execution_count": null,
      "metadata": {
        "id": "DUt9SknvqGgD"
      },
      "outputs": [],
      "source": []
    }
  ],
  "metadata": {
    "colab": {
      "provenance": []
    },
    "gpuClass": "standard",
    "kernelspec": {
      "display_name": "Python 3",
      "name": "python3"
    },
    "language_info": {
      "name": "python"
    }
  },
  "nbformat": 4,
  "nbformat_minor": 0
}
